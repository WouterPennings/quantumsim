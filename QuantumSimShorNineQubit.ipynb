{
 "cells": [
  {
   "cell_type": "markdown",
   "metadata": {},
   "source": [
    "QuantumSim - Shor's Nine Qubit Code\n",
    "==========================================\n",
    "Author: Michel Meulen  \n",
    "Date: 13-11-2024  \n",
    "\n",
    "In this chapter an introduction is presented to quantum error correction (QEC) with an analysis of Peter Shors nine qubit code circuit. All content presented in this notebook is based of my literature study, which can be found: INSERT LINK. This notebook uses two libraries: quantumsim, which you are probably quite familiar with already, and ShorsNineQubitCode, which contains pre-defined circuits to create Shors nine qubit code."
   ]
  },
  {
   "cell_type": "code",
   "execution_count": 1,
   "metadata": {},
   "outputs": [],
   "source": [
    "from quantumsim import *\n",
    "from ShorsNineQubitCode import Shors"
   ]
  },
  {
   "cell_type": "markdown",
   "metadata": {},
   "source": [
    "Quantum Error Correction - an Introduction\n",
    "------------------------------------------------------\n",
    "\n",
    "In quantum error correction, we combine some number (think of hundreds or thousands) of **‘physical’ hardware qubits** into a **virtual ‘logical’ qubit**. The logical qubits are the information carriers used in an algorithm or application. Error correction methods can detect whenever tiny errors occur in the logical qubit, which can then be ‘repaired’ with straightforward operations. Under the assumption that the probability of hardware errors is sufficiently low (below a certain error threshold: The pseudo threshold), the overall accuracy improves exponentially as we employ more physical qubits to make a logical qubit. Hence, we obtain a very favourable trade-off between the number of usable qubits and the accuracy of the qubits. In essence, we are using more individual physical qubits to create a better noise resistant logical qubit.  \n",
    "\n",
    "To some degree, we can further reduce errors by creating more accurate hardware. However, quantum objects are so incredibly fragile that even getting down to 10^-2 errors requires some of the world’s most astonishing engineering. On the other hand, quantum error correction is incredibly effective: the error drops dramatically at the cost of adding a modest number of qubits, which is assumed to be scalable anyway. That’s why experts agree that error correction is the right way forward for creating fault tolerant quantum computers.  \n",
    "\n",
    "Lets compare classical computers with quantum computers. For ‘perfect’ classical computers, the situation is straightforward: if a problem gets bigger, we need more **width**, the number of bits required to solve a problem. Besides memory it also takes longer obtaining the result. For (quantum) computers that make errors, the situation is more complex. With increasing **depth**, the number of steps/ cycles required to solve a problem, the error probabilities also need to be lower. Hence more extensive error correction is required. Both the the width and depth are adjustable, which is shown in the figure below. \n",
    "\n",
    "<img src=\"./assets/images/qec_general/impact_of_qec_graph.png\" alt=\"Impact of QEC\" style=\"width:50%;\"/>\n"
   ]
  },
  {
   "cell_type": "markdown",
   "metadata": {},
   "source": [
    "Quantum Error Correction - Challenges\n",
    "---------------------------------------------------------\n",
    "Quantum error correction is a complex process, made more difficult by the unique properties of quantum systems. Unlike classical systems, quantum information cannot be copied (due to the no-cloning theorem) and is susceptible to both **bit-flips (X-errors)** and **phase-flips (Z-errors)**. Additionally, measuring qubits can cause wavefunction collapse, potentially destroying the encoded information.\n",
    "\n",
    "To address these challenges, quantum error correction codes must be designed to detect and correct both types of errors while minimizing the risk of measurement-induced collapse. While some techniques from classical coding theory can be adapted, significant modifications are necessary to account for the quantum-specific limitations.  \n",
    "\n",
    "Quantum Error Correction - Shor's Nine Qubit Code\n",
    "---------------------------------------------------------\n",
    "In 1995 Peter Shor’s published his research explaining how to reduce decoherence in quantum computer memory. His work showed how to store an arbitrary state of N qubits using 9 qubits in a decoherence-resistant way. That is, even if one of the qubits decoheres, the original superposition can be reconstructed perfectly. His work maps each qubit of the original N qubits into nine qubits and his process will reconstruct the original superposition if at most one qubit decoheres in each of these groups of nine qubits. In short, Peter Shors was the first to create a quantum circuit capable of detecting and correcting both one phase-flip and one bit-flip."
   ]
  },
  {
   "cell_type": "markdown",
   "metadata": {},
   "source": [
    "<h1> Bit-flip Correction Code </h1>\n",
    "<img src=\"./assets/images/shors_nine_qubit/bitflip_correction_circuit_white_background.png\" alt=\"Bit flip correction circuit\" style=\"width:50%;\"/>\n"
   ]
  },
  {
   "cell_type": "code",
   "execution_count": 2,
   "metadata": {},
   "outputs": [
    {
     "name": "stdout",
     "output_type": "stream",
     "text": [
      "Initial value is |1>\n",
      "X..\tPauli X on qubit 0\n",
      "*X.\tCNOT with control qubit 0 and target qubit 1\n",
      "*.X\tCNOT with control qubit 0 and target qubit 2\n",
      "X..\tBit-flip error (Pauli X) on qubit 0\n",
      "*X.\tCNOT with control qubit 0 and target qubit 1\n",
      "*.X\tCNOT with control qubit 0 and target qubit 2\n",
      "X**\tToffoli with control qubit 1 and CNOT with control qubit 2 and target qubit 0\n",
      "Measured state:\n",
      "|111>\n",
      "|1>\t Measured value of qubit 0\n"
     ]
    }
   ],
   "source": [
    "# Encode the logical qubit state among multiple qubits\n",
    "bitFlipCorrectionCircuit = Circuit(3)\n",
    "bitFlipCorrectionCircuit.pauli_x(0)\n",
    "print(\"Initial value is |1>\")\n",
    "# Make init state: |100>\n",
    "\n",
    "bitFlipCorrectionCircuit.cnot(0, 1)\n",
    "bitFlipCorrectionCircuit.cnot(0, 2)\n",
    "# |111>\n",
    "\n",
    "# Create bitflip error\n",
    "bitFlipCorrectionCircuit.bitflip_error_random()\n",
    "\n",
    "# Decode, mayority check for correction\n",
    "bitFlipCorrectionCircuit.cnot(0, 1)\n",
    "bitFlipCorrectionCircuit.cnot(0, 2)\n",
    "bitFlipCorrectionCircuit.toffoli(1, 2, 0)\n",
    "\n",
    "bitFlipCorrectionCircuit.print_gates_and_descriptions()\n",
    "bitFlipCorrectionCircuit.execute(print_state=False)\n",
    "bitFlipCorrectionCircuit.measure(print_state=True)\n",
    "# Measured answer must always be |1??>\n",
    "print(bitFlipCorrectionCircuit.get_classical_state_of_qubit_as_string(0))\n"
   ]
  },
  {
   "cell_type": "markdown",
   "metadata": {},
   "source": [
    "## Phase-flip Correction Code\n",
    "<img src=\"./assets/images/shors_nine_qubit/phaseflip_correction_circuit_white_background.png\" alt=\"Phase flip correction circuit\" style=\"width:50%;\"/>\n"
   ]
  },
  {
   "cell_type": "code",
   "execution_count": 3,
   "metadata": {},
   "outputs": [
    {
     "name": "stdout",
     "output_type": "stream",
     "text": [
      "Initial value is |1>\n",
      "X..\tPauli X on qubit 0\n",
      "*X.\tCNOT with control qubit 0 and target qubit 1\n",
      "*.X\tCNOT with control qubit 0 and target qubit 2\n",
      "H..\tHadamard on qubit 0\n",
      ".H.\tHadamard on qubit 1\n",
      "..H\tHadamard on qubit 2\n",
      "..Z\tPhase-flip error (Pauli Z) on qubit 2\n",
      "H..\tHadamard on qubit 0\n",
      ".H.\tHadamard on qubit 1\n",
      "..H\tHadamard on qubit 2\n",
      "*X.\tCNOT with control qubit 0 and target qubit 1\n",
      "*.X\tCNOT with control qubit 0 and target qubit 2\n",
      "X**\tToffoli with control qubit 1 and CNOT with control qubit 2 and target qubit 0\n",
      "Measured state:\n",
      "|101>\n",
      "|1>\t Measured value of qubit 0\n"
     ]
    }
   ],
   "source": [
    "# Encode the logical qubit state among multiple qubits\n",
    "phaseFlipCorrectionCircuit = Circuit(3)\n",
    "phaseFlipCorrectionCircuit.pauli_x(0)\n",
    "print(\"Initial value is |1>\")\n",
    "# Make init state: |100>\n",
    "\n",
    "phaseFlipCorrectionCircuit.cnot(0, 1)\n",
    "phaseFlipCorrectionCircuit.cnot(0, 2)\n",
    "# |111>\n",
    "\n",
    "phaseFlipCorrectionCircuit.hadamard(0)\n",
    "phaseFlipCorrectionCircuit.hadamard(1)\n",
    "phaseFlipCorrectionCircuit.hadamard(2)\n",
    "\n",
    "# Create Phase-flip error\n",
    "phaseFlipCorrectionCircuit.phaseflip_error_random()\n",
    "\n",
    "phaseFlipCorrectionCircuit.hadamard(0)\n",
    "phaseFlipCorrectionCircuit.hadamard(1)\n",
    "phaseFlipCorrectionCircuit.hadamard(2)\n",
    "\n",
    "# Decode, mayority check for correction\n",
    "phaseFlipCorrectionCircuit.cnot(0, 1)\n",
    "phaseFlipCorrectionCircuit.cnot(0, 2)\n",
    "phaseFlipCorrectionCircuit.toffoli(1, 2, 0)\n",
    "\n",
    "phaseFlipCorrectionCircuit.print_gates_and_descriptions()\n",
    "phaseFlipCorrectionCircuit.execute(print_state=False)\n",
    "phaseFlipCorrectionCircuit.measure(print_state=True)\n",
    "\n",
    "print(phaseFlipCorrectionCircuit.get_classical_state_of_qubit_as_string(0))\n"
   ]
  },
  {
   "cell_type": "markdown",
   "metadata": {},
   "source": [
    "## Shor's Nine Qubit Code\n",
    "<img src=\"./assets/images/shors_nine_qubit/shors_ninequbit_circuit_white_background.png\" alt=\"Shors nine qubit code\" style=\"width:50%;\"/>\n"
   ]
  },
  {
   "cell_type": "code",
   "execution_count": 4,
   "metadata": {},
   "outputs": [
    {
     "name": "stdout",
     "output_type": "stream",
     "text": [
      "Initial value is |0>\n",
      "*..X.....\tCNOT with control qubit 0 and target qubit 3\n",
      "*.....X..\tCNOT with control qubit 0 and target qubit 6\n",
      "H........\tHadamard on qubit 0\n",
      "...H.....\tHadamard on qubit 3\n",
      "......H..\tHadamard on qubit 6\n",
      "*X.......\tCNOT with control qubit 0 and target qubit 1\n",
      "*.X......\tCNOT with control qubit 0 and target qubit 2\n",
      "...*X....\tCNOT with control qubit 3 and target qubit 4\n",
      "...*.X...\tCNOT with control qubit 3 and target qubit 5\n",
      "......*X.\tCNOT with control qubit 6 and target qubit 7\n",
      "......*.X\tCNOT with control qubit 6 and target qubit 8\n",
      ".......Z.\tPhase-flip error (Pauli Z) on qubit 7\n",
      "......X..\tBit-flip error (Pauli X) on qubit 6\n",
      "*X.......\tCNOT with control qubit 0 and target qubit 1\n",
      "*.X......\tCNOT with control qubit 0 and target qubit 2\n",
      "X**......\tToffoli with control qubit 1 and CNOT with control qubit 2 and target qubit 0\n",
      "...*X....\tCNOT with control qubit 3 and target qubit 4\n",
      "...*.X...\tCNOT with control qubit 3 and target qubit 5\n",
      "...X**...\tToffoli with control qubit 4 and CNOT with control qubit 5 and target qubit 3\n",
      "......*X.\tCNOT with control qubit 6 and target qubit 7\n",
      "......*.X\tCNOT with control qubit 6 and target qubit 8\n",
      "......X**\tToffoli with control qubit 7 and CNOT with control qubit 8 and target qubit 6\n",
      "H........\tHadamard on qubit 0\n",
      "...H.....\tHadamard on qubit 3\n",
      "......H..\tHadamard on qubit 6\n",
      "*..X.....\tCNOT with control qubit 0 and target qubit 3\n",
      "*.....X..\tCNOT with control qubit 0 and target qubit 6\n",
      "X..*..*..\tToffoli with control qubit 3 and CNOT with control qubit 6 and target qubit 0\n",
      "Measured state:\n",
      "|000000111>\n",
      "|0>\t Measured value of qubit 0\n"
     ]
    }
   ],
   "source": [
    "# Create the encoder\n",
    "encoder = Shors.GetPhaseEncoderCircuit()\n",
    "encoder.append_circuit(Shors.GetBitEncoderCircuit(0))\n",
    "encoder.append_circuit(Shors.GetBitEncoderCircuit(3))\n",
    "encoder.append_circuit(Shors.GetBitEncoderCircuit(6))\n",
    "\n",
    "# Generate one random bit flip & phase flip error\n",
    "flips = Shors.GetPhaseFlipErrorCircuit(0)\n",
    "flips.append_circuit(Shors.GetBitFlipErrorCircuit(0))\n",
    "\n",
    "# Decode \n",
    "decoder = Shors.GetBitDecoderCircuit(0)\n",
    "decoder.append_circuit(Shors.GetBitDecoderCircuit(3))\n",
    "decoder.append_circuit(Shors.GetBitDecoderCircuit(6))\n",
    "decoder.append_circuit(Shors.GetPhaseDecoderCircuit())\n",
    "\n",
    "# Glue all parts of the circuit together\n",
    "shorsCode = Circuit(9)\n",
    "print(\"Initial value is |0>\")\n",
    "shorsCode.append_circuit(encoder)\n",
    "shorsCode.append_circuit(flips)\n",
    "shorsCode.append_circuit(decoder)\n",
    "\n",
    "# Execute and measure the ShorsCode\n",
    "shorsCode.print_gates_and_descriptions()\n",
    "shorsCode.execute(print_state=False)\n",
    "shorsCode.measure(print_state=True)\n",
    "\n",
    "print(shorsCode.get_classical_state_of_qubit_as_string(0))"
   ]
  }
 ],
 "metadata": {
  "kernelspec": {
   "display_name": "base",
   "language": "python",
   "name": "python3"
  },
  "language_info": {
   "codemirror_mode": {
    "name": "ipython",
    "version": 3
   },
   "file_extension": ".py",
   "mimetype": "text/x-python",
   "name": "python",
   "nbconvert_exporter": "python",
   "pygments_lexer": "ipython3",
   "version": "3.9.7"
  }
 },
 "nbformat": 4,
 "nbformat_minor": 2
}
