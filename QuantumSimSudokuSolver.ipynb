{
 "cells": [
  {
   "cell_type": "markdown",
   "metadata": {},
   "source": [
    "# QuantumSim - 2 x 2 Sudoku Solver\n",
    "Author: Nico Kuijpers<br>\n",
    "Date: January 3, 2025\n",
    "\n",
    "In this notebook we use Grover's search algorithm to solve a $2 \\times 2$ Sudoku puzzle with and without known values.\n",
    "\n",
    "The notebook is based on the following notebook and blog post, but uses QuantumSim instead of Qiskit:\n",
    "\n",
    "https://github.com/Qiskit/textbook/blob/main/notebooks/ch-algorithms/grover.ipynb\n",
    "\n",
    "https://blog.theodo.com/2022/10/quantum-sudoku/"
   ]
  },
  {
   "cell_type": "code",
   "execution_count": 1,
   "metadata": {},
   "outputs": [],
   "source": [
    "from quantumsim import *"
   ]
  },
  {
   "cell_type": "markdown",
   "metadata": {},
   "source": [
    "Assume a $2 \\times 2$ by Sudoku puzzle. Four values have to be filled in, let's call them $v_0$, $v_1$, $v_2$, and $v_3$.\n",
    "\n",
    "|  $v_0$  |  $v_1$  | \n",
    "|---------|---------|\n",
    "|  $v_2$  |  $v_3$  | \n",
    "\n",
    "Since it is a $2 \\times 2$ Sudoku puzzle, the only values allowed are $0$ and $1$.\n",
    "\n",
    "A correct solution satisfies the following constraints:\n",
    "1. $v_0 \\neq v_1$\n",
    "2. $v_0 \\neq v_2$\n",
    "3. $v_1 \\neq v_3$\n",
    "4. $v_2 \\neq v_3$\n",
    "\n",
    "These constraints are coded in the *clause_list* below."
   ]
  },
  {
   "cell_type": "code",
   "execution_count": 2,
   "metadata": {},
   "outputs": [],
   "source": [
    "# Constraints for a 2 x 2 Sudoku puzzle\n",
    "clause_list = [[0,1],\n",
    "               [0,2],\n",
    "               [1,3],\n",
    "               [2,3]]"
   ]
  },
  {
   "cell_type": "markdown",
   "metadata": {},
   "source": [
    "To check these constraints, an exclusive OR (XOR) gate is used. \n",
    "The XOR operation of two binary values $A$ and $B$ is denoted by $A \\oplus B$ and\n",
    "is defined by the following truth table\n",
    "\n",
    "| $A$ | $B$ | $A \\oplus B$ |\n",
    "|:---:|:---:|:------------:|\n",
    "|  0  |  0  |       0      |\n",
    "|  0  |  1  |       1      |\n",
    "|  1  |  0  |       1      |\n",
    "|  1  |  1  |       0      |\n",
    "\n",
    "Thus $A \\oplus B = 1$ if and only if $A \\neq B$. \n",
    "\n",
    "In quantum computing, a XOR gate can be realized by two CNOT gates with control qubits $a$ and $b$ and target qubit the output qubit.\n",
    "\n",
    "Below a function *XOR* is defined which extends a quantum circuit with an XOR operation. Qubits $a$ and $b$ are input qubits and\n",
    "$c$ is the output qubit."
   ]
  },
  {
   "cell_type": "code",
   "execution_count": 3,
   "metadata": {},
   "outputs": [],
   "source": [
    "def XOR(circuit:Circuit, a:int, b:int, c:int):\n",
    "    circuit.cnot(a, c)\n",
    "    circuit.cnot(b, c)"
   ]
  },
  {
   "cell_type": "markdown",
   "metadata": {},
   "source": [
    "Using the clause list and the XOR operation, an oracle can be created for the $2 \\times 2$ Sudoku puzzle. \n",
    "The first $4$ qubits represent $v_0$, $v_1$, $v_2$, and $v_3$ and are called *value_qubits*. \n",
    "The next $4$ qubits will be used to check the constraints and are called *clause_qubits*.\n",
    "An extra qubit is added which will be in state $|1\\rangle$ when the solution is valid. This qubit is called the *output* qubit.\n",
    "\n",
    "The oracle is constructed as follows:\n",
    "\n",
    "1. Determine the number of qubits and create a circuit.\n",
    "2. For each clause in the *clause_list* add an XOR operation with the value qubits as input and the respective clause qubit as output.\n",
    "3. Apply a multi-controlled Pauli X operation with all clause qubits as control and the *output* qubit as target.\n",
    "4. Repeat step 2 to reset the clause qubits.\n",
    "\n",
    "Below a function is defined to create a Sudoku oracle."
   ]
  },
  {
   "cell_type": "code",
   "execution_count": 4,
   "metadata": {},
   "outputs": [],
   "source": [
    "def create_sudoku_oracle(clause_list:list[int,int], nr_value_qubits:int) -> Circuit:\n",
    "\n",
    "    # Determine the number of qubits and create a circuit\n",
    "    nr_clause_qubits = len(clause_list)\n",
    "    nr_qubits = nr_value_qubits + nr_clause_qubits + 1\n",
    "    circuit = Circuit(nr_qubits)\n",
    "\n",
    "    # Set the values for the clause qubits\n",
    "    q = nr_value_qubits\n",
    "    for clause in clause_list:\n",
    "        XOR(circuit, clause[0], clause[1], q)\n",
    "        q = q + 1\n",
    "\n",
    "    # Flip 'output' qubit if all clauses are satisfied\n",
    "    clause_circuit = Circuit(nr_clause_qubits + 1)\n",
    "    clause_circuit.multi_controlled_pauli_x()\n",
    "    circuit.append_circuit_general(clause_circuit, nr_value_qubits)\n",
    "\n",
    "    # Reset the clause qubits\n",
    "    q = nr_value_qubits\n",
    "    for clause in clause_list:\n",
    "        XOR(circuit, clause[0], clause[1], q)\n",
    "        q = q + 1\n",
    "    \n",
    "    return circuit\n",
    "   "
   ]
  },
  {
   "cell_type": "markdown",
   "metadata": {},
   "source": [
    "The next step is to constuct a diffusion operator, or *diffuser*. The diffuser acts on the value qubits only. \n",
    "For the $2 \\times 2$ Sudoku solver, it is taken into account that some of the values $v_0$, $v_1$, $v_2$, and $v_3$ may be known.\n",
    "\n",
    "For an explanation of the role of the diffuser in Grover's algorithm, we refer to this Qiskit notebook:\n",
    "\n",
    "https://github.com/Qiskit/textbook/blob/main/notebooks/ch-algorithms/grover.ipynb\n",
    "\n",
    "For an intuitive explanation of a diffuser which takes the known values into account, \n",
    "we refer to this blog by Ivan Popkov:\n",
    "\n",
    "https://blog.theodo.com/2022/10/quantum-sudoku/\n",
    "\n",
    "Below a function is described to create a diffuser to solve a $2 \\times 2$ Sudoku puzzle. Input parameters are the number of value qubits\n",
    "*nr_value_qubits* and a list of qubits for which the values have to be filled in, the *unknown_qubits*."
   ]
  },
  {
   "cell_type": "code",
   "execution_count": 5,
   "metadata": {},
   "outputs": [],
   "source": [
    "def create_diffuser(nr_value_qubits:int, unknown_qubits:list[int]) -> Circuit:\n",
    "\n",
    "    # Create a circuit for the diffuser\n",
    "    circuit = Circuit(nr_value_qubits)\n",
    "\n",
    "    # Apply transformation |s> -> |00..0> (using H-gates)\n",
    "    for q in unknown_qubits:\n",
    "        circuit.hadamard(q)\n",
    "\n",
    "    # Apply transformation |00..0> -> |11..1> (using X-gates)\n",
    "    for q in unknown_qubits:\n",
    "        circuit.pauli_x(q)\n",
    "\n",
    "    # Apply a multi-controlled Z gate (using H-gates and a Toffoli gate)\n",
    "    controls = [q for q in range(nr_value_qubits-1) if q in unknown_qubits]\n",
    "    target = nr_value_qubits - 1\n",
    "    circuit.hadamard(target)\n",
    "    circuit.generic_toffoli(controls, target)\n",
    "    circuit.hadamard(target)\n",
    "\n",
    "    # Apply transformation |11..1> -> |00..0> (using X-gates)\n",
    "    for q in unknown_qubits:\n",
    "        circuit.pauli_x(q)\n",
    "\n",
    "    # Apply transformation |00..0> -> |s> (using H-gates)\n",
    "    for q in unknown_qubits:\n",
    "        circuit.hadamard(q)\n",
    "\n",
    "    return circuit"
   ]
  },
  {
   "cell_type": "markdown",
   "metadata": {},
   "source": [
    "Below, a function is defined to create the Grover circuit. This function has as input parameters *clause_list*, *known_values*, *nr_values*, and *nr_iterations*.\n",
    "Parameter *known_values* is a dictionary with entry numbers ($0$, $1$, $2$ or $3$) as key and the known value ($0$ or $1$) as value. \n",
    "Parameter *nr_iterations* determines how many times the oracle and the diffuser are repeated in the Grover circuit.\n",
    "\n",
    "Using Hadamard gates, the unknown value qubits (*unknown_qubits*) are brought into superposition. \n",
    "The known value qubits (*known_qubits*) are brought into states $|0\\rangle$ or $|1\\rangle$\n",
    "depending on the values in the *known_values* dictionary.\n",
    "The clause qubits have initial state $|0\\rangle$.\n",
    "\n",
    "Below a function is defined to create a Grover circuit to solve a $2 \\times $ Sudoku puzzle."
   ]
  },
  {
   "cell_type": "code",
   "execution_count": 6,
   "metadata": {},
   "outputs": [],
   "source": [
    "def create_grover_circuit(clause_list:list[int,int], known_values:dict, nr_values:int, nr_iterations:int) -> Circuit:\n",
    "    \n",
    "    # List of qubits for which values are already known\n",
    "    known_qubits = list(known_values.keys())\n",
    "    \n",
    "    # List of qubits for which values will be be calculated\n",
    "    unknown_qubits = [q for q in range(nr_values) if q not in known_qubits]\n",
    "\n",
    "    # Create the Sudoku oracle for the 2 x 2 Sudoku puzzle\n",
    "    sudoku_oracle = create_sudoku_oracle(clause_list, nr_values)\n",
    "\n",
    "    # Create the Grover circuit with same number of qubits\n",
    "    circuit = Circuit(sudoku_oracle.N)\n",
    "\n",
    "    # Initialize the output qubit in state |->\n",
    "    output_qubit = nr_values + len(clause_list)\n",
    "    circuit.pauli_x(output_qubit)\n",
    "    circuit.hadamard(output_qubit)\n",
    "\n",
    "    # Initialize the value qubits\n",
    "    for q in range(nr_values):\n",
    "        if q in known_qubits:\n",
    "            # Qubits are in the |0> state by default\n",
    "            # If the value of the known qubit is 1, the state is \n",
    "            # changed to |1> by applying a Pauli X gate\n",
    "            if known_values[q] == 1:\n",
    "                circuit.pauli_x(q)\n",
    "        if q in unknown_qubits:\n",
    "            # Unknown qubits are initialized in the |+> state with a Hadamard gate\n",
    "            circuit.hadamard(q)    \n",
    "        \n",
    "    # Create the diffuser\n",
    "    diffuser = create_diffuser(nr_values, unknown_qubits)\n",
    "\n",
    "    # Add the Sudoku oracle and diffuser nr_iterations times\n",
    "    for i in range(nr_iterations):\n",
    "        # Apply the Sudoku oracle\n",
    "        circuit.append_circuit(sudoku_oracle)\n",
    "\n",
    "        # Apply the diffuser\n",
    "        circuit.append_circuit_general(diffuser, 0)\n",
    "\n",
    "    # Bring the output qubit to one of the basis states |0> or |1>\n",
    "    circuit.hadamard(output_qubit)\n",
    "\n",
    "    return circuit"
   ]
  },
  {
   "cell_type": "markdown",
   "metadata": {},
   "source": [
    "Below, a Grover circuit with no known qubits is created. In this case, two solutions are possible:\n",
    "\n",
    "|  $v_0 = 0$  |  $v_1 = 1$  | \n",
    "|-------------|-------------|\n",
    "|  $v_2 = 1$  |  $v_3 = 0$  | \n",
    "\n",
    "and\n",
    "\n",
    "|  $v_0 = 1$  |  $v_1 = 0$  | \n",
    "|-------------|-------------|\n",
    "|  $v_2 = 0$  |  $v_3 = 1$  |"
   ]
  },
  {
   "cell_type": "code",
   "execution_count": 7,
   "metadata": {},
   "outputs": [
    {
     "data": {
      "image/png": "[encoded data removed]",
      "text/plain": [
       "<Figure size 640x480 with 1 Axes>"
      ]
     },
     "metadata": {},
     "output_type": "display_data"
    }
   ],
   "source": [
    "nr_values = 4\n",
    "nr_iterations = 2\n",
    "# Case 1: no known values => 2 possible solutions: 0110 and 1001\n",
    "known_values = {}\n",
    "circuit = create_grover_circuit(clause_list, known_values, nr_values, nr_iterations)\n",
    "result = QuantumUtil.measure_circuit(circuit, 10000)\n",
    "QuantumUtil.histogram_of_classical_states(result)"
   ]
  },
  {
   "cell_type": "markdown",
   "metadata": {},
   "source": [
    "The two most occurring classical states are $|011000001\\rangle$ and $|100100001\\rangle$. \n",
    "Indeed, these states represent the two possible solutions."
   ]
  },
  {
   "cell_type": "markdown",
   "metadata": {},
   "source": [
    "Below, a function is defined to print the solutions found by the Grover circuit. \n",
    "It is assumed that all classical states occurring more than $1000$ times are valid solutions."
   ]
  },
  {
   "cell_type": "code",
   "execution_count": 8,
   "metadata": {},
   "outputs": [],
   "source": [
    "from collections import Counter\n",
    "\n",
    "def print_solutions(result:list[str]):\n",
    "    counts = Counter(result)\n",
    "    frequent_strings = [string for string, count in counts.items() if count > 1000]\n",
    "    print(\"Solutions found:\")\n",
    "    for string in frequent_strings:\n",
    "        solution = string[1:5]\n",
    "        print(\"\")\n",
    "        print(\"---------\")\n",
    "        print(f\"| {solution[0]} | {solution[1]} |\")\n",
    "        print(\"---------\")\n",
    "        print(f\"| {solution[2]} | {solution[3]} |\")\n",
    "        print(\"---------\")"
   ]
  },
  {
   "cell_type": "code",
   "execution_count": 9,
   "metadata": {},
   "outputs": [
    {
     "name": "stdout",
     "output_type": "stream",
     "text": [
      "Solutions found:\n",
      "\n",
      "---------\n",
      "| 0 | 1 |\n",
      "---------\n",
      "| 1 | 0 |\n",
      "---------\n",
      "\n",
      "---------\n",
      "| 1 | 0 |\n",
      "---------\n",
      "| 0 | 1 |\n",
      "---------\n"
     ]
    }
   ],
   "source": [
    "print_solutions(result)"
   ]
  },
  {
   "cell_type": "markdown",
   "metadata": {},
   "source": [
    "Below, a function is defined to create, execute and measure a Grover circuit for given known values. A histogram of measurements is created and the solutions are printed."
   ]
  },
  {
   "cell_type": "code",
   "execution_count": 10,
   "metadata": {},
   "outputs": [],
   "source": [
    "def find_solutions(known_values:dict):\n",
    "    circuit = create_grover_circuit(clause_list, known_values, nr_values=4, nr_iterations=2)\n",
    "    result = QuantumUtil.measure_circuit(circuit, 10000)\n",
    "    QuantumUtil.histogram_of_classical_states(result)\n",
    "    print_solutions(result)\n"
   ]
  },
  {
   "cell_type": "markdown",
   "metadata": {},
   "source": [
    "Let's make $v_0$ known to be $0$."
   ]
  },
  {
   "cell_type": "code",
   "execution_count": 11,
   "metadata": {},
   "outputs": [
    {
     "data": {
      "image/png": "[encoded data removed]",
      "text/plain": [
       "<Figure size 640x480 with 1 Axes>"
      ]
     },
     "metadata": {},
     "output_type": "display_data"
    },
    {
     "name": "stdout",
     "output_type": "stream",
     "text": [
      "Solutions found:\n",
      "\n",
      "---------\n",
      "| 0 | 1 |\n",
      "---------\n",
      "| 1 | 0 |\n",
      "---------\n"
     ]
    }
   ],
   "source": [
    "known_values = {0:0}\n",
    "find_solutions(known_values)"
   ]
  },
  {
   "cell_type": "markdown",
   "metadata": {},
   "source": [
    "Let's make $v_3$ known to be $1$."
   ]
  },
  {
   "cell_type": "code",
   "execution_count": 12,
   "metadata": {},
   "outputs": [
    {
     "data": {
      "image/png": "[encoded data removed]",
      "text/plain": [
       "<Figure size 640x480 with 1 Axes>"
      ]
     },
     "metadata": {},
     "output_type": "display_data"
    },
    {
     "name": "stdout",
     "output_type": "stream",
     "text": [
      "Solutions found:\n",
      "\n",
      "---------\n",
      "| 1 | 0 |\n",
      "---------\n",
      "| 0 | 1 |\n",
      "---------\n"
     ]
    }
   ],
   "source": [
    "known_values = {3:1}\n",
    "find_solutions(known_values)"
   ]
  }
 ],
 "metadata": {
  "kernelspec": {
   "display_name": "base",
   "language": "python",
   "name": "python3"
  },
  "language_info": {
   "codemirror_mode": {
    "name": "ipython",
    "version": 3
   },
   "file_extension": ".py",
   "mimetype": "text/x-python",
   "name": "python",
   "nbconvert_exporter": "python",
   "pygments_lexer": "ipython3",
   "version": "3.9.7"
  }
 },
 "nbformat": 4,
 "nbformat_minor": 2
}
