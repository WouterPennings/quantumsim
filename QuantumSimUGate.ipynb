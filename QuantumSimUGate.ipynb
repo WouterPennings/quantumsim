{
 "cells": [
  {
   "cell_type": "markdown",
   "metadata": {},
   "source": [
    "# QuantumSim - U gate\n",
    "Author: Nico Kuijpers<br>\n",
    "Date: December 1, 2024<br> "
   ]
  },
  {
   "cell_type": "markdown",
   "metadata": {},
   "source": [
    "Any single-qubit gate can be described by the $U$-gate with 3 Euler angles $\\theta$, $\\phi$, and $\\lambda$. The  $U$-gate is also used in Qiskit.\n",
    "\n",
    "Qiskit reference to $U$-gate:<br>\n",
    "https://docs.quantum.ibm.com/api/qiskit/qiskit.circuit.library.UGate\n",
    "\n",
    "In this Jupyter notebook we present how the $U$-gate is implemented in QuantumSim. Also, it is shown how the most common gates can be defined using the $U$-gate."
   ]
  },
  {
   "cell_type": "code",
   "execution_count": 1,
   "metadata": {},
   "outputs": [],
   "source": [
    "from quantumsim import *"
   ]
  },
  {
   "cell_type": "markdown",
   "metadata": {},
   "source": [
    "The generic single-qubit unitary operation $U(\\theta, \\phi, \\lambda)$, or $U$-gate, is defined by:\n",
    "\n",
    "$\n",
    "U(\\theta, \\phi, \\lambda) = \n",
    "\\begin{pmatrix}\n",
    "\\cos(\\frac{\\theta}{2}) & -e^{i \\lambda} \\sin(\\frac{\\theta}{2}) \\\\\n",
    "e^{i \\phi} \\sin(\\frac{\\theta}{2}) & e^{i (\\phi + \\lambda)} \\cos(\\frac{\\theta}{2})\n",
    "\\end{pmatrix}\n",
    "$\n",
    "\n",
    "In QuantumSim, class *QubitUnitaryOperation* is extended with function *get_u_gate()* as defined below."
   ]
  },
  {
   "cell_type": "code",
   "execution_count": 2,
   "metadata": {},
   "outputs": [],
   "source": [
    "def get_u_gate(theta, phi, lam):\n",
    "    sin = math.sin(theta/2)\n",
    "    cos = math.cos(theta/2)\n",
    "    a = cos\n",
    "    b = -cmath.exp(1j * lam) * sin\n",
    "    c = cmath.exp(1j * phi) * sin\n",
    "    d = cmath.exp(1j * (phi + lam)) * cos\n",
    "    return np.array([[a, b], [c, d]])"
   ]
  },
  {
   "cell_type": "markdown",
   "metadata": {},
   "source": [
    "Th matrix for the identity gate $I$ can be defined by $U(\\theta, \\phi, \\lambda)$ as follows:\n",
    "\n",
    "$\n",
    "I = U(0, 0, 0) = \n",
    "\\begin{pmatrix}\n",
    "1 & 0 \\\\\n",
    "0 & 1\n",
    "\\end{pmatrix}\n",
    "$\n",
    "\n",
    "Below, it is shown how $I$ can be obtained using function call *get_u_gate*($0$,$0$,$0$).\n",
    "\n",
    "Using Python's assert statement it is checked whether the parameters $\\theta$, $\\phi$, and $\\lambda$ are defined correctly."
   ]
  },
  {
   "cell_type": "code",
   "execution_count": 3,
   "metadata": {},
   "outputs": [
    {
     "name": "stdout",
     "output_type": "stream",
     "text": [
      "[[1.+0.j 0.-0.j]\n",
      " [0.+0.j 1.+0.j]]\n"
     ]
    }
   ],
   "source": [
    "I = QubitUnitaryOperation.get_identity()\n",
    "Iu = QubitUnitaryOperation.get_u_gate(0, 0, 0)\n",
    "print(Iu)\n",
    "assert np.allclose(I,Iu), \"Wrong theta, phi, lambda for Identity\""
   ]
  },
  {
   "cell_type": "markdown",
   "metadata": {},
   "source": [
    "The matrix for the Pauli $X$ gate can be defined by $U(\\theta, \\phi, \\lambda)$ as follows:\n",
    "\n",
    "$\n",
    "X = U\\left(\\pi, 0, \\pi\\right) = \n",
    "\\begin{pmatrix}\n",
    "0 & 1 \\\\\n",
    "1 & 0\n",
    "\\end{pmatrix}\n",
    "$\n",
    "\n",
    "Below, it is shown how $X$ can be obtained using function call *get_u_gate*($\\pi$,$0$,$\\pi$).\n",
    "\n",
    "Using Python's assert statement it is checked whether the parameters $\\theta$, $\\phi$, and $\\lambda$ are defined correctly."
   ]
  },
  {
   "cell_type": "code",
   "execution_count": 4,
   "metadata": {},
   "outputs": [
    {
     "name": "stdout",
     "output_type": "stream",
     "text": [
      "[[ 6.123234e-17+0.00000000e+00j  1.000000e+00-1.22464680e-16j]\n",
      " [ 1.000000e+00+0.00000000e+00j -6.123234e-17+7.49879891e-33j]]\n"
     ]
    }
   ],
   "source": [
    "X = QubitUnitaryOperation.get_pauli_x()\n",
    "Xu = QubitUnitaryOperation.get_u_gate(np.pi, 0, np.pi)\n",
    "print(Xu)\n",
    "assert np.allclose(X,Xu), \"Wrong theta, phi, lambda for Pauli X\""
   ]
  },
  {
   "cell_type": "markdown",
   "metadata": {},
   "source": [
    "The matrix for the Pauli $Y$ gate can be defined by $U(\\theta, \\phi, \\lambda)$ as follows:\n",
    "\n",
    "$\n",
    "Y = U\\left(\\pi, \\frac{\\pi}{2}, \\frac{\\pi}{2}\\right) = \n",
    "\\begin{pmatrix}\n",
    "0 & -i \\\\\n",
    "i & 0\n",
    "\\end{pmatrix}\n",
    "$\n",
    "\n",
    "Below, it is shown how $Y$ can be obtained using function call *get_u_gate*($\\pi$,$\\frac{\\pi}{2}$,$\\frac{\\pi}{2}$).\n",
    "\n",
    "Using Python's assert statement it is checked whether the parameters $\\theta$, $\\phi$, and $\\lambda$ are defined correctly."
   ]
  },
  {
   "cell_type": "code",
   "execution_count": 5,
   "metadata": {},
   "outputs": [
    {
     "name": "stdout",
     "output_type": "stream",
     "text": [
      "[[ 6.123234e-17+0.00000000e+00j -6.123234e-17-1.00000000e+00j]\n",
      " [ 6.123234e-17+1.00000000e+00j -6.123234e-17+7.49879891e-33j]]\n"
     ]
    }
   ],
   "source": [
    "Y = QubitUnitaryOperation.get_pauli_y()\n",
    "Yu = QubitUnitaryOperation.get_u_gate(np.pi, np.pi/2, np.pi/2)\n",
    "print(Yu)\n",
    "assert np.allclose(Y,Yu), \"Wrong theta, phi, lambda for Pauli Y\""
   ]
  },
  {
   "cell_type": "markdown",
   "metadata": {},
   "source": [
    "The matrix for the Pauli $Z$ gate can be defined by $U(\\theta, \\phi, \\lambda)$ as follows:\n",
    "\n",
    "$\n",
    "Z = U\\left(0, 0, \\pi\\right) = \n",
    "\\begin{pmatrix}\n",
    "1 & 0 \\\\\n",
    "0 & -1\n",
    "\\end{pmatrix}\n",
    "$\n",
    "\n",
    "Below, it is shown how $Z$ can be obtained using function call *get_u_gate*($0$,$0$,$\\pi$).\n",
    "\n",
    "Using Python's assert statement it is checked whether the parameters $\\theta$, $\\phi$, and $\\lambda$ are defined correctly."
   ]
  },
  {
   "cell_type": "code",
   "execution_count": 6,
   "metadata": {},
   "outputs": [
    {
     "name": "stdout",
     "output_type": "stream",
     "text": [
      "[[ 1.+0.0000000e+00j  0.+0.0000000e+00j]\n",
      " [ 0.+0.0000000e+00j -1.+1.2246468e-16j]]\n"
     ]
    }
   ],
   "source": [
    "Z = QubitUnitaryOperation.get_pauli_z()\n",
    "Zu = QubitUnitaryOperation.get_u_gate(0, 0, np.pi)\n",
    "print(Zu)\n",
    "assert np.allclose(Z,Zu), \"Wrong theta, phi, lambda for Pauli Z\""
   ]
  },
  {
   "cell_type": "markdown",
   "metadata": {},
   "source": [
    "The matrix for the Hadamard gate can be defined by $U(\\theta, \\phi, \\lambda)$ as follows:\n",
    "\n",
    "$\n",
    "H = U\\left(\\frac{\\pi}{2}, 0, \\pi\\right) = \n",
    "\\frac{1}{\\sqrt{2}} \n",
    "\\begin{pmatrix}\n",
    "1 & 1 \\\\\n",
    "1 & -1\n",
    "\\end{pmatrix}\n",
    "$\n",
    "\n",
    "Below, it is shown how $H$ can be obtained using function call *get_u_gate*($\\frac{\\pi}{2}$, $0$, $\\pi$).\n",
    "\n",
    "Using Python's assert statement it is checked whether the parameters $\\theta$, $\\phi$, and $\\lambda$ are defined correctly."
   ]
  },
  {
   "cell_type": "code",
   "execution_count": 7,
   "metadata": {},
   "outputs": [
    {
     "name": "stdout",
     "output_type": "stream",
     "text": [
      "[[ 0.70710678+0.00000000e+00j  0.70710678-8.65956056e-17j]\n",
      " [ 0.70710678+0.00000000e+00j -0.70710678+8.65956056e-17j]]\n"
     ]
    }
   ],
   "source": [
    "H = QubitUnitaryOperation.get_hadamard()\n",
    "Hu = QubitUnitaryOperation.get_u_gate(np.pi/2, 0, np.pi)\n",
    "print(Hu)\n",
    "assert np.allclose(H,Hu,), \"Wrong theta, phi, lambda for Hadamard\""
   ]
  },
  {
   "cell_type": "markdown",
   "metadata": {},
   "source": [
    "The matrix for the Phase gate $P(\\theta)$ can be defined by $U(\\theta, \\phi, \\lambda)$ as follows:\n",
    "\n",
    "$\n",
    "P(\\theta) = U\\left(0, 0, \\theta\\right) = \n",
    "\\begin{pmatrix}\n",
    "1 & 0 \\\\\n",
    "0 & e^{i\\theta}\n",
    "\\end{pmatrix}\n",
    "$\n",
    "\n",
    "To obtain the $S$-gate, use $P(\\theta)$ with $\\theta = \\frac{\\pi}{2}$ as follows:\n",
    "\n",
    "$\n",
    "S = P(\\frac{\\pi}{2}) =\n",
    "\\begin{pmatrix}\n",
    "1 & 0 \\\\\n",
    "0 & i\n",
    "\\end{pmatrix}\n",
    "$\n",
    "\n",
    "To obtain the $T$-gate, use $P(\\theta)$ with $\\theta = \\frac{\\pi}{4}$ as follows:\n",
    "\n",
    "$\n",
    "T = P(\\frac{\\pi}{4}) =\n",
    "\\begin{pmatrix}\n",
    "1 & 0 \\\\\n",
    "0 & e^{i \\frac{\\pi}{4}}\n",
    "\\end{pmatrix}\n",
    "$\n",
    "\n",
    "Below, it is shown how $S$ can be obtained using function call *get_u_gate*($0$, $0$, $\\frac{\\pi}{2}$).\n",
    "\n",
    "Using Python's assert statement it is checked whether the parameters $\\theta$, $\\phi$, and $\\lambda$ are defined correctly."
   ]
  },
  {
   "cell_type": "code",
   "execution_count": 8,
   "metadata": {},
   "outputs": [
    {
     "name": "stdout",
     "output_type": "stream",
     "text": [
      "[[1.000000e+00+0.j 0.000000e+00-0.j]\n",
      " [0.000000e+00+0.j 6.123234e-17+1.j]]\n"
     ]
    }
   ],
   "source": [
    "theta = np.pi/2\n",
    "S = QubitUnitaryOperation.get_phase(theta)\n",
    "Su = QubitUnitaryOperation.get_u_gate(0, 0, theta)\n",
    "print(Su)\n",
    "assert np.allclose(S,Su,), f\"Wrong theta, phi, lambda for S-gate\""
   ]
  },
  {
   "cell_type": "markdown",
   "metadata": {},
   "source": [
    "Below, it is shown how $T$ can be obtained using function call *get_u_gate*($0$, $0$, $\\frac{\\pi}{4}$).\n",
    "\n",
    "Using Python's assert statement it is checked whether the parameters $\\theta$, $\\phi$, and $\\lambda$ are defined correctly."
   ]
  },
  {
   "cell_type": "code",
   "execution_count": 9,
   "metadata": {},
   "outputs": [
    {
     "name": "stdout",
     "output_type": "stream",
     "text": [
      "[[1.        +0.j         0.        -0.j        ]\n",
      " [0.        +0.j         0.70710678+0.70710678j]]\n"
     ]
    }
   ],
   "source": [
    "theta = np.pi/4\n",
    "T = QubitUnitaryOperation.get_phase(theta)\n",
    "Tu = QubitUnitaryOperation.get_u_gate(0, 0, theta)\n",
    "print(Tu)\n",
    "assert np.allclose(T,Tu,), f\"Wrong theta, phi, lambda for T-gate\""
   ]
  },
  {
   "cell_type": "markdown",
   "metadata": {},
   "source": [
    "The matrix for rotation about the $x$-axis of the Bloch sphere can be described by $U(\\theta, \\phi, \\lambda)$ as follows:\n",
    "\n",
    "$\n",
    "R_x(\\theta) = U\\left(\\theta, -\\frac{\\pi}{2}, \\frac{\\pi}{2}\\right) = \n",
    "\\begin{pmatrix} \n",
    "\\cos(\\frac{\\theta}{2}) & -i \\sin(\\frac{\\theta}{2}) \\\\\n",
    "-i \\sin(\\frac{\\theta}{2}) & \\cos(\\frac{\\theta}{2}) \n",
    "\\end{pmatrix}\n",
    "$\n",
    "\n",
    "Below, it is shown how $R_x$ can be obtained using function call *get_u_gate*($\\theta$, $-\\frac{\\pi}{2}$, $\\frac{\\pi}{2}$).\n",
    "\n",
    "Using Python's assert statement it is checked whether the parameters $\\theta$, $\\phi$, and $\\lambda$ are defined correctly."
   ]
  },
  {
   "cell_type": "code",
   "execution_count": 10,
   "metadata": {},
   "outputs": [
    {
     "name": "stdout",
     "output_type": "stream",
     "text": [
      "[[ 9.80785280e-01+0.j         -1.19458369e-17-0.19509032j]\n",
      " [ 1.19458369e-17-0.19509032j  9.80785280e-01+0.j        ]]\n"
     ]
    }
   ],
   "source": [
    "theta = np.pi/8\n",
    "Rx = QubitUnitaryOperation.get_rotate_x(theta)\n",
    "Rxu = QubitUnitaryOperation.get_u_gate(theta, -np.pi/2, np.pi/2)\n",
    "print(Rxu)\n",
    "assert np.allclose(Rx,Rxu), \"Wrong theta, phi, lambda for Rx-gate\""
   ]
  },
  {
   "cell_type": "markdown",
   "metadata": {},
   "source": [
    "The matrix for rotation about the $y$-axis of the Bloch sphere can be described by $U(\\theta, \\phi, \\lambda)$ as follows:\n",
    "\n",
    "$\n",
    "R_y(\\theta) = U\\left(\\theta, 0, 0\\right) = \n",
    "\\begin{pmatrix} \n",
    "\\cos(\\frac{\\theta}{2}) & -\\sin(\\frac{\\theta}{2}) \\\\\n",
    "\\sin(\\frac{\\theta}{2}) & \\cos(\\frac{\\theta}{2}) \n",
    "\\end{pmatrix}\n",
    "$\n",
    "\n",
    "Below, it is shown how $R_y$ can be obtained using function call *get_u_gate*($\\theta$, $0$, $0$).\n",
    "\n",
    "Using Python's assert statement it is checked whether the parameters $\\theta$, $\\phi$, and $\\lambda$ are defined correctly."
   ]
  },
  {
   "cell_type": "code",
   "execution_count": 11,
   "metadata": {},
   "outputs": [
    {
     "name": "stdout",
     "output_type": "stream",
     "text": [
      "[[ 0.98078528+0.j -0.19509032-0.j]\n",
      " [ 0.19509032+0.j  0.98078528+0.j]]\n"
     ]
    }
   ],
   "source": [
    "theta = np.pi/8\n",
    "Ry = QubitUnitaryOperation.get_rotate_y(theta)\n",
    "Ryu = QubitUnitaryOperation.get_u_gate(theta, 0, 0)\n",
    "print(Ryu)\n",
    "assert np.allclose(Ry,Ryu), \"Wrong theta, phi, lambda for Ry-gate\""
   ]
  },
  {
   "cell_type": "markdown",
   "metadata": {},
   "source": [
    "The matrix for rotation about the $z$-axis of the Bloch sphere can be described by $U(\\theta, \\phi, \\lambda)$ as follows:\n",
    "\n",
    "$\n",
    "R_z(\\theta) = U\\left(0, 0, \\theta\\right) = \n",
    "\\begin{pmatrix} \n",
    "1 & 0 \\\\\n",
    "0 & e^{i \\frac{\\theta}{2}} \n",
    "\\end{pmatrix}\n",
    "= e^{i \\frac{\\theta}{2}}\n",
    "\\begin{pmatrix} \n",
    "e^{-i \\frac{\\theta}{2}} & 0 \\\\\n",
    "0 & e^{i \\frac{\\theta}{2}} \n",
    "\\end{pmatrix}\n",
    "$\n",
    "\n",
    "Note that $e^{i \\frac{\\theta}{2}}$ is a complex unit. It cannot be measured, but it needs to be taken into account when comparing the matrices that result from function calls *get_rotate_z*($\\theta$) and *get_u_gate*($0$,$0$,$\\theta$).\n",
    "\n",
    "Below, it is shown how $R_z$ can be obtained using function call *get_u_gate*($0$, $0$, $\\theta$).\n",
    "\n",
    "Using Python's assert statement it is checked whether the parameters $\\theta$, $\\phi$, and $\\lambda$ are defined correctly."
   ]
  },
  {
   "cell_type": "code",
   "execution_count": 12,
   "metadata": {},
   "outputs": [
    {
     "name": "stdout",
     "output_type": "stream",
     "text": [
      "[[1.        +0.j         0.        -0.j        ]\n",
      " [0.        +0.j         0.92387953+0.38268343j]]\n"
     ]
    }
   ],
   "source": [
    "theta = np.pi/8\n",
    "factor = np.exp(1j * theta/2)\n",
    "Rz = QubitUnitaryOperation.get_rotate_z(theta)\n",
    "Rzu = QubitUnitaryOperation.get_u_gate(0, 0, theta)\n",
    "print(Rzu)\n",
    "assert np.allclose(factor*Rz,Rzu), \"Wrong theta, phi, lambda for Rz-gate\""
   ]
  },
  {
   "cell_type": "markdown",
   "metadata": {},
   "source": []
  }
 ],
 "metadata": {
  "kernelspec": {
   "display_name": "base",
   "language": "python",
   "name": "python3"
  },
  "language_info": {
   "codemirror_mode": {
    "name": "ipython",
    "version": 3
   },
   "file_extension": ".py",
   "mimetype": "text/x-python",
   "name": "python",
   "nbconvert_exporter": "python",
   "pygments_lexer": "ipython3",
   "version": "3.9.7"
  }
 },
 "nbformat": 4,
 "nbformat_minor": 2
}
