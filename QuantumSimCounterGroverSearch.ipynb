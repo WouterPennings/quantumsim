{
 "cells": [
  {
   "cell_type": "markdown",
   "metadata": {},
   "source": [
    "# QuantumSim - Grover Search using Counter\n",
    "Author: Nico Kuijpers<br>\n",
    "Date: January 2, 2025\n",
    "\n",
    "In this notebook we use Grover's algorithm to search for binary strings of length $n$ having exactly $k$ ones ($0 \\leq k \\leq n$). \n",
    "Within the Grover oracle, the number of ones is counted using a counter as introduced in this notebook from QuantumSim:\n",
    "\n",
    "https://github.com/nicokuijpers/QuantumSim/blob/main/QuantumSimCounter.ipynb\n",
    "\n",
    "For an implementation of Grover's algorithm in QuantumSim, we refer to this notebook:\n",
    "\n",
    "https://github.com/nicokuijpers/QuantumSim/blob/main/QuantumSimGroverAlgorithm.ipynb"
   ]
  },
  {
   "cell_type": "code",
   "execution_count": 1,
   "metadata": {},
   "outputs": [],
   "source": [
    "from quantumsim import *"
   ]
  },
  {
   "cell_type": "markdown",
   "metadata": {},
   "source": [
    "## Introduction\n",
    "Suppose we want to find all possible binary strings of length $n$ with exactly $k$ ones and $n-k$ zeros. \n",
    "The number of possible strings is then $2^N$ and the number of strings with exactly $k$ ones is equal to\n",
    "\n",
    "$\\binom{n}{k} = \\frac{n!}{k! (n-k)!}$.\n",
    "\n",
    "For example, for $n=5$ and $k=2$, the number of possible strings is $2^5 = 32$ and the number of strings\n",
    "with exactly $k$ ones is\n",
    "\n",
    "$\\binom{n}{k} = \\frac{n!}{k! (n-k)!} = \\frac{5!}{2! \\cdot 3!} = \\frac{120}{2 \\cdot 6} = \\frac{120}{12} = 10$.\n",
    "\n",
    "These $10$ strings are:\n",
    "$00011$, $00101$, $00110$, $01001$, $01010$, $01100$, $10001$, $10010$, $10100$, $11000$. \n",
    "\n",
    "These strings can be found using Grover's algorithm. Using a counter of $1$, $2$ or $3$ qubits, a\n",
    "Grover oracle can be constructed to find strings of length $n$ with exactly $k$ ones, for $0 < n < 7$ and $0 \\leq k \\leq n$.\n",
    "\n",
    "The Grover oracle is constructed as follows:\n",
    "1. Determine the number of qubits $m$ needed for the counter.\n",
    "2. Determine which of the $m$ counter qubits should be zero. \n",
    "3. Construct a counter of $m$ qubits as described above.\n",
    "4. Apply Pauli X operations on the counter qubits that should be zero.\n",
    "5. Apply a multi-controlled Pauli Z operation on all counter qubits.\n",
    "6. Apply Pauli X operations on the counter qubits that should be zero.\n",
    "7. Construct a reversed version of the counter.\n",
    "\n",
    "Note that step 7 is necessary such that the Grover oracle can be used multiple times."
   ]
  },
  {
   "cell_type": "code",
   "execution_count": 2,
   "metadata": {},
   "outputs": [],
   "source": [
    "def create_grover_oracle(nr_zeros:int, nr_ones:int) -> Circuit:\n",
    "\n",
    "    # Determine the length of the binary strings, n\n",
    "    n = nr_zeros + nr_ones\n",
    "    if n < 1 or n > 7:\n",
    "        raise ValueError(\"Sum of nr_zeros and nr_ones must be at least 1 and at most 7\")\n",
    "    \n",
    "    # Determine the number of counter qubits, m\n",
    "    binary_string = bin(n)[2:]\n",
    "    m = len(binary_string)\n",
    "    \n",
    "    # Determine the counter qubits that should be zero\n",
    "    nr_ones_binary = bin(nr_ones)[2:].zfill(m)\n",
    "    zero_inds = [ind for ind in range(m) if nr_ones_binary.startswith(\"0\",ind)]\n",
    "\n",
    "    # Construct a circuit of size n + m\n",
    "    circuit = Circuit(n + m)\n",
    "\n",
    "    # Counter for m = 1\n",
    "    if m == 1:\n",
    "        circuit.cnot(0,1)\n",
    "\n",
    "    # Counter for m = 2\n",
    "    if m == 2:\n",
    "        for q in range(n):\n",
    "            circuit.toffoli(q, n + 1, n)\n",
    "            circuit.cnot(q, n + 1)\n",
    "\n",
    "    # Counter for m = 3\n",
    "    if m == 3:\n",
    "        for q in range(n):\n",
    "            circuit.generic_toffoli([q, n + 2, n + 1], n)\n",
    "            circuit.toffoli(q, n + 2, n + 1)\n",
    "            circuit.cnot(q, n + 2)\n",
    "\n",
    "    # Construct a circuit to apply a multi-controlled Pauli Z operation on the counter qubits\n",
    "    # Apply Pauli X operations on counter qubits that should be zero \n",
    "    # Apply a multi-controlled Pauli Z operation on the counter qubits\n",
    "    # Apply Pauli X operations on counter qubits that should be zero\n",
    "    # Append this circuit to the grover oracle starting from qubit n \n",
    "    circuit_extra = Circuit(m)\n",
    "    for i in zero_inds:\n",
    "        circuit_extra.pauli_x(i)\n",
    "    circuit_extra.multi_controlled_pauli_z()\n",
    "    for i in zero_inds:\n",
    "        circuit_extra.pauli_x(i)\n",
    "    circuit.append_circuit_general(circuit_extra, n)\n",
    "\n",
    "    # Reverse counter for m = 1\n",
    "    if m == 1:\n",
    "        circuit.cnot(0,1)\n",
    "\n",
    "    # Reverse counter for m = 2\n",
    "    if m == 2:\n",
    "        for q in range(n-1, -1, -1):\n",
    "            circuit.cnot(q, n + 1)\n",
    "            circuit.toffoli(q, n + 1, n)\n",
    "            \n",
    "    # Reverse counter for m = 3\n",
    "    if m == 3:\n",
    "        for q in range(n-1, -1, -1):\n",
    "            circuit.cnot(q, n + 2)\n",
    "            circuit.toffoli(q, n + 2, n + 1)\n",
    "            circuit.generic_toffoli([q, n + 2, n + 1], n)\n",
    "\n",
    "    return circuit\n"
   ]
  },
  {
   "cell_type": "markdown",
   "metadata": {},
   "source": [
    "Below, a function is defined to create the Grover operator using a Grover oracle."
   ]
  },
  {
   "cell_type": "code",
   "execution_count": 3,
   "metadata": {},
   "outputs": [],
   "source": [
    "def create_grover_operator(oracle:Circuit) -> Circuit:\n",
    "    grover = Circuit(oracle.N)\n",
    "    grover.append_circuit(oracle)\n",
    "    for q in range (grover.N):\n",
    "        grover.hadamard(q)\n",
    "    for q in range (grover.N):\n",
    "        grover.pauli_x(q)\n",
    "    grover.hadamard(grover.N - 1)\n",
    "    grover.multi_controlled_pauli_x() \n",
    "    grover.hadamard(grover.N - 1)\n",
    "    for q in range (grover.N):\n",
    "        grover.pauli_x(q)\n",
    "    for q in range (grover.N):\n",
    "        grover.hadamard(q)\n",
    "    return grover"
   ]
  },
  {
   "cell_type": "markdown",
   "metadata": {},
   "source": [
    "Below, a function is defined to create the Grover circuit. This function has as input parameters *nr_zeros*, *nr_ones*, and *nr_iterations*.\n",
    "The latter determines how many times the Grover operator is repeated in the Grover circuit. \n",
    "Using Hadamrd gates, the input qubits are brought into superposition. The counter qubits have initial state $|0\\rangle$."
   ]
  },
  {
   "cell_type": "code",
   "execution_count": 4,
   "metadata": {},
   "outputs": [],
   "source": [
    "def create_grover_circuit(nr_zeros:int, nr_ones:int, nr_iterations:int) -> Circuit:\n",
    "    \n",
    "    # Determine the length of the binary strings, n\n",
    "    n = nr_zeros + nr_ones\n",
    "    if n < 1 or n > 7:\n",
    "        raise ValueError(\"Sum of nr_zeros and nr_ones must be at least 1 and at most 7\")\n",
    "    \n",
    "    # Create the Grover oracle\n",
    "    oracle = create_grover_oracle(nr_zeros, nr_ones)\n",
    "\n",
    "    # Create the Grover operator\n",
    "    grover_operator = create_grover_operator(oracle)\n",
    "\n",
    "    # Create the Grover circuit\n",
    "    circuit = Circuit(oracle.N)\n",
    "\n",
    "    # Apply Hadamard gates on the input qubits, but not on the counter qubits\n",
    "    for q in range(n):\n",
    "        circuit.hadamard(q)\n",
    "    \n",
    "    # Repeat the Grover operator\n",
    "    for i in range(nr_iterations):\n",
    "        circuit.append_circuit(grover_operator)\n",
    "\n",
    "    return circuit"
   ]
  },
  {
   "cell_type": "markdown",
   "metadata": {},
   "source": [
    "## Example\n",
    "In the example below, Grover's search algorithm is applied to find all binary strings of length 3 with exactly 2 ones.\n",
    "\n",
    "The optimal number of iterations $k_{\\text{opt}}$ is defined by\n",
    "\n",
    "$k_{\\text{opt}} = \\left\\lfloor \\frac{\\pi}{4} \\sqrt{\\frac{N}{M}} \\right\\rfloor$, where\n",
    "\n",
    "$N$ is the number of possible strings and $M$ the number of accepted solutions.\n",
    "\n",
    "In this case $N=2^3=8$ and \n",
    "\n",
    "$M=\\binom{3}{2} = \\frac{3!}{2! \\cdot 1!} = \\frac{6}{2 \\cdot 1} = 3$, \n",
    "\n",
    "thus the optimal number of solutions is\n",
    "\n",
    "$k_{\\text{opt}} = \\left\\lfloor \\frac{\\pi}{4} \\sqrt{\\frac{8}{3}} \\right\\rfloor = 1$"
   ]
  },
  {
   "cell_type": "code",
   "execution_count": 5,
   "metadata": {},
   "outputs": [
    {
     "name": "stdout",
     "output_type": "stream",
     "text": [
      "Number of zeros  : 1\n",
      "Number of ones   : 2\n",
      "Number of possible solutions : 8\n",
      "Number of accepted solutions : 3\n",
      "Optimal number of iterations : 1\n"
     ]
    }
   ],
   "source": [
    "# Determine number of possible strings and possible solutions\n",
    "nr_zeros = 1\n",
    "nr_ones = 2\n",
    "nr_possible_solutions = 2**(nr_zeros + nr_ones)\n",
    "nr_accepted_solutions = math.comb(nr_zeros + nr_ones, nr_ones)\n",
    "\n",
    "# Determine optimal number of iterations \n",
    "nr_iterations = max(1, math.floor((math.pi / 4) * math.sqrt((nr_possible_solutions/nr_accepted_solutions))))\n",
    "\n",
    "# Print \n",
    "print(f\"Number of zeros  : {nr_zeros}\")\n",
    "print(f\"Number of ones   : {nr_ones}\")\n",
    "print(f\"Number of possible solutions : {nr_possible_solutions}\")\n",
    "print(f\"Number of accepted solutions : {nr_accepted_solutions}\")\n",
    "print(f\"Optimal number of iterations : {nr_iterations}\")\n",
    "\n",
    "# Create the Grover circuit\n",
    "circuit = create_grover_circuit(nr_zeros, nr_ones, nr_iterations)"
   ]
  },
  {
   "cell_type": "markdown",
   "metadata": {},
   "source": [
    "Below, the circuit is executed and 20000 measurements are performed."
   ]
  },
  {
   "cell_type": "code",
   "execution_count": 6,
   "metadata": {},
   "outputs": [
    {
     "data": {
      "image/png": "[encoded data removed]",
      "text/plain": [
       "<Figure size 640x480 with 1 Axes>"
      ]
     },
     "metadata": {},
     "output_type": "display_data"
    }
   ],
   "source": [
    "result = QuantumUtil.measure_circuit(circuit, nr_measurements=20000)\n",
    "QuantumUtil.histogram_of_classical_states(result)"
   ]
  },
  {
   "cell_type": "markdown",
   "metadata": {},
   "source": [
    "Accepted solutions should end with exactly $m$ zeros, where $m$ is the number of counter qubits. Below, all results not ending with $m$ zeros are removed."
   ]
  },
  {
   "cell_type": "code",
   "execution_count": 7,
   "metadata": {},
   "outputs": [
    {
     "data": {
      "image/png": "[encoded data removed]",
      "text/plain": [
       "<Figure size 640x480 with 1 Axes>"
      ]
     },
     "metadata": {},
     "output_type": "display_data"
    }
   ],
   "source": [
    "# Determine the number of counting qubits\n",
    "n = nr_zeros + nr_ones\n",
    "binary_string = bin(n)[2:]\n",
    "m = len(binary_string)\n",
    "\n",
    "# Retain results ending with m zeros.\n",
    "results_ending_with_zeros = [s for s in result if s.endswith(\"0\"*m + \">\")]\n",
    "QuantumUtil.histogram_of_classical_states(results_ending_with_zeros)"
   ]
  },
  {
   "cell_type": "markdown",
   "metadata": {},
   "source": [
    "It can be observed that results $|01100\\rangle$, $|10100\\rangle$, and $|11000\\rangle$ occur the most. Indeed, these results represent the $3$ accepted solutions."
   ]
  },
  {
   "cell_type": "markdown",
   "metadata": {},
   "source": [
    "## Testing\n",
    "Below, a function is defined to create a Grover circuit, execute it, and measure the results. \n",
    "From the resulting measurements, two sets are created. \n",
    "If $M$ represents the number of accepted solutions, then one set contains the $M$ most common \n",
    "occurrences of result strings and the other set contains all other result strings.\n",
    "\n",
    "If $m$ is the number of counting qubits, all result strings in the most common set should end with $m$ \n",
    "zeros and have exactly the desired number of ones.\n",
    "All other result strings should either not end with $m$ zeros or have a different number of ones.\n",
    "\n",
    "A histogram of results ending with zeros is plotted if parameter *plot_histogram* is True.\n",
    "Any violations are printed and the total number of violations per set is counted.\n",
    "\n",
    "Finally, the list of accepted solutions found by Grover's algorithm is printed. \n",
    "Note that this list is NOT corrected for any violations found during the test."
   ]
  },
  {
   "cell_type": "code",
   "execution_count": 8,
   "metadata": {},
   "outputs": [],
   "source": [
    "def test_grover_circuit(nr_zeros:int, nr_ones:int, nr_measurements:int, plot_histogram:bool=False, nr_iterations:int=None):\n",
    "\n",
    "    # Determine number of possible solutions and accepted solutions\n",
    "    nr_possible_solutions = 2**(nr_zeros + nr_ones)\n",
    "    nr_accepted_solutions = math.comb(nr_zeros + nr_ones, nr_ones)\n",
    "\n",
    "    if nr_iterations == None:\n",
    "        # Determine optimal number of iterations\n",
    "        nr_iterations = max(1, math.floor((math.pi / 4) * math.sqrt((nr_possible_solutions/nr_accepted_solutions))))\n",
    "\n",
    "        #To avoid a large number of iterations \n",
    "        if (nr_zeros + nr_ones >= 6) and (nr_zeros == 0 or nr_ones == 0):\n",
    "            nr_iterations = 1\n",
    "\n",
    "    # Print \n",
    "    print(f\"Number of zeros  : {nr_zeros}\")\n",
    "    print(f\"Number of ones   : {nr_ones}\")\n",
    "    print(f\"Number of possible solutions : {nr_possible_solutions}\")\n",
    "    print(f\"Number of accepted solutions : {nr_accepted_solutions}\")\n",
    "    print(f\"Optimal number of iterations : {nr_iterations}\")\n",
    "    \n",
    "    # Create a Grover circuit\n",
    "    circuit = create_grover_circuit(nr_zeros, nr_ones, nr_iterations)\n",
    "\n",
    "    # Execute the Grover circuit and measure multiple times\n",
    "    result = QuantumUtil.measure_circuit(circuit, nr_measurements=nr_measurements)\n",
    "\n",
    "    # Plot a histogram of all results\n",
    "    if plot_histogram:\n",
    "        QuantumUtil.histogram_of_classical_states(result)\n",
    "\n",
    "    # Count occurrences of each string in result\n",
    "    counter = Counter(result)\n",
    "\n",
    "    # Get the nr_accepted_solutions most common strings as a list of tuples (string, count)\n",
    "    most_common_strings = counter.most_common(nr_accepted_solutions)\n",
    "\n",
    "    # Get nr_accepted_solutions most common strings only\n",
    "    most_common_strings_only = [item[0] for item in most_common_strings]\n",
    "\n",
    "    # Convert most_common_strings_only to a set for faster lookups\n",
    "    most_common_set = set(most_common_strings_only)\n",
    "\n",
    "    # Get strings that are not in most_common_strings_only\n",
    "    not_in_common = [s for s in result if s not in most_common_set]\n",
    "    not_in_common_set = set(not_in_common)\n",
    "\n",
    "    # Determine the number of bits for counting\n",
    "    binary_string = bin(nr_zeros + nr_ones)[2:]\n",
    "    nr_count_bits = len(binary_string)\n",
    "\n",
    "    # All strings in most_common_strings should have exactly nr_ones ones\n",
    "    # These strings should all end with nr_count_bits zeros\n",
    "    nr_violations_common = 0\n",
    "    for s in most_common_strings_only:\n",
    "        if not s.endswith(\"0\"*nr_count_bits + \">\"):\n",
    "            print(f\"\\tresult = {s} and and counter is not zero\")\n",
    "            nr_violations_common += 1\n",
    "        else:\n",
    "            nr_ones_in_string = s.count('1')\n",
    "            if nr_ones_in_string != nr_ones:\n",
    "                print(f\"\\tresult = {s} and number of ones is {nr_ones_in_string}\")\n",
    "                nr_violations_common += 1\n",
    "    print(f\"Number of violations in set of most common strings is {nr_violations_common}\")\n",
    "\n",
    "    # All other strings should have a different number of ones, but only\n",
    "    # if they end with nr_count_bits zeros\n",
    "    nr_violations_not_in_common = 0\n",
    "    for s in not_in_common_set:\n",
    "        substring_count = s[-(nr_count_bits+1):-1]\n",
    "        nr_ones_in_substring_count = substring_count.count('1')\n",
    "        if nr_ones_in_substring_count == 0:\n",
    "            substring = s[1:len(s)-nr_count_bits-1]\n",
    "            nr_ones_in_string = substring.count('1')\n",
    "            if nr_ones_in_string == nr_ones:\n",
    "                print(f\"\\tresult = {s} and number of ones is {nr_ones_in_string}\")\n",
    "                nr_violations_not_in_common += 1\n",
    "    print(f\"Number of violations in set of other strings is {nr_violations_not_in_common}\")\n",
    "\n",
    "    # Print the accepted solutions\n",
    "    accepted_solutions = [s[1:len(s)-nr_count_bits-1] for s in most_common_set]\n",
    "    print(\"Accepted solutions (not corrected for violations):\")\n",
    "    print(sorted(accepted_solutions))"
   ]
  },
  {
   "cell_type": "markdown",
   "metadata": {},
   "source": [
    "Below, a Grover circuit is tested for $1$ zero and $2$ ones."
   ]
  },
  {
   "cell_type": "code",
   "execution_count": 9,
   "metadata": {},
   "outputs": [
    {
     "name": "stdout",
     "output_type": "stream",
     "text": [
      "Number of zeros  : 1\n",
      "Number of ones   : 2\n",
      "Number of possible solutions : 8\n",
      "Number of accepted solutions : 3\n",
      "Optimal number of iterations : 1\n"
     ]
    },
    {
     "data": {
      "image/png": "[encoded data removed]",
      "text/plain": [
       "<Figure size 640x480 with 1 Axes>"
      ]
     },
     "metadata": {},
     "output_type": "display_data"
    },
    {
     "name": "stdout",
     "output_type": "stream",
     "text": [
      "Number of violations in set of most common strings is 0\n",
      "Number of violations in set of other strings is 0\n",
      "Accepted solutions (not corrected for violations):\n",
      "['011', '101', '110']\n"
     ]
    }
   ],
   "source": [
    "test_grover_circuit(nr_zeros=1, nr_ones=2, nr_measurements=20000, plot_histogram=True)"
   ]
  },
  {
   "cell_type": "markdown",
   "metadata": {},
   "source": [
    "Next, a Grover circuit is tested for $1$ zero and $0$ ones."
   ]
  },
  {
   "cell_type": "code",
   "execution_count": 10,
   "metadata": {},
   "outputs": [
    {
     "name": "stdout",
     "output_type": "stream",
     "text": [
      "Number of zeros  : 1\n",
      "Number of ones   : 0\n",
      "Number of possible solutions : 2\n",
      "Number of accepted solutions : 1\n",
      "Optimal number of iterations : 1\n"
     ]
    },
    {
     "data": {
      "image/png": "[encoded data removed]",
      "text/plain": [
       "<Figure size 640x480 with 1 Axes>"
      ]
     },
     "metadata": {},
     "output_type": "display_data"
    },
    {
     "name": "stdout",
     "output_type": "stream",
     "text": [
      "\tresult = |10> and number of ones is 1\n",
      "Number of violations in set of most common strings is 1\n",
      "\tresult = |00> and number of ones is 0\n",
      "Number of violations in set of other strings is 1\n",
      "Accepted solutions (not corrected for violations):\n",
      "['1']\n"
     ]
    }
   ],
   "source": [
    "test_grover_circuit(nr_zeros=1, nr_ones=0, nr_measurements=20000, plot_histogram=True)"
   ]
  },
  {
   "cell_type": "markdown",
   "metadata": {},
   "source": [
    "If you run the code block multiple times, you will find that sometimes a violation is detected. From the histogram it can be concluded that the number of occurrrences of $|00\\rangle$ and $|10\\rangle$ are about equal. Hence, this Grover circuit is not suitable to generate the strings \"0\" or \"1\"."
   ]
  },
  {
   "cell_type": "markdown",
   "metadata": {},
   "source": [
    "Below, a Grover circuit is tested for $1$ zero and $1$ one."
   ]
  },
  {
   "cell_type": "code",
   "execution_count": 11,
   "metadata": {},
   "outputs": [
    {
     "name": "stdout",
     "output_type": "stream",
     "text": [
      "Number of zeros  : 1\n",
      "Number of ones   : 1\n",
      "Number of possible solutions : 4\n",
      "Number of accepted solutions : 2\n",
      "Optimal number of iterations : 1\n"
     ]
    },
    {
     "data": {
      "image/png": "[encoded data removed]",
      "text/plain": [
       "<Figure size 640x480 with 1 Axes>"
      ]
     },
     "metadata": {},
     "output_type": "display_data"
    },
    {
     "name": "stdout",
     "output_type": "stream",
     "text": [
      "\tresult = |0000> and number of ones is 0\n",
      "Number of violations in set of most common strings is 1\n",
      "\tresult = |1000> and number of ones is 1\n",
      "Number of violations in set of other strings is 1\n",
      "Accepted solutions (not corrected for violations):\n",
      "['00', '01']\n"
     ]
    }
   ],
   "source": [
    "test_grover_circuit(nr_zeros=1, nr_ones=1, nr_measurements=20000, plot_histogram=True)"
   ]
  },
  {
   "cell_type": "markdown",
   "metadata": {},
   "source": [
    "If you run the code block multiple times, you will find that sometimes violations are detected. From the histogram it can be concluded that the number of occurrrences of $|0000\\rangle$, $|0100\\rangle$, $|1000\\rangle$, and $|1100\\rangle$ are all about equal. Hence, also this Grover circuit is not suitable to generate binary strings of length $2$ with exactly $0$, $1$ or $2$ ones."
   ]
  },
  {
   "cell_type": "markdown",
   "metadata": {},
   "source": [
    "Below, a Grover circuit is tested for $0$ zeros and $2$ ones."
   ]
  },
  {
   "cell_type": "code",
   "execution_count": 12,
   "metadata": {},
   "outputs": [
    {
     "name": "stdout",
     "output_type": "stream",
     "text": [
      "Number of zeros  : 0\n",
      "Number of ones   : 2\n",
      "Number of possible solutions : 4\n",
      "Number of accepted solutions : 1\n",
      "Optimal number of iterations : 1\n"
     ]
    },
    {
     "data": {
      "image/png": "[encoded data removed]",
      "text/plain": [
       "<Figure size 640x480 with 1 Axes>"
      ]
     },
     "metadata": {},
     "output_type": "display_data"
    },
    {
     "name": "stdout",
     "output_type": "stream",
     "text": [
      "Number of violations in set of most common strings is 0\n",
      "Number of violations in set of other strings is 0\n",
      "Accepted solutions (not corrected for violations):\n",
      "['11']\n"
     ]
    }
   ],
   "source": [
    "test_grover_circuit(nr_zeros=0, nr_ones=2, nr_measurements=20000, plot_histogram=True)"
   ]
  },
  {
   "cell_type": "markdown",
   "metadata": {},
   "source": [
    "Below, a function is defined to test all possible Grover circuits for a given number of bits. Using this function, all possible Grover circuits for binary strings up to length 5 are tested. Testing circuits for longer strings take more computational time and memory. To test these circuits, you should uncomment the code in cells [19] and [20]."
   ]
  },
  {
   "cell_type": "code",
   "execution_count": 13,
   "metadata": {},
   "outputs": [],
   "source": [
    "def test_all_grover_circuits(nr_bits:int, nr_measurements:int):\n",
    "    for nr_ones in range(nr_bits+1):\n",
    "        nr_zeros = nr_bits - nr_ones\n",
    "        test_grover_circuit(nr_zeros=nr_zeros, nr_ones=nr_ones, nr_measurements=nr_measurements)"
   ]
  },
  {
   "cell_type": "code",
   "execution_count": 14,
   "metadata": {},
   "outputs": [
    {
     "name": "stdout",
     "output_type": "stream",
     "text": [
      "Number of zeros  : 1\n",
      "Number of ones   : 0\n",
      "Number of possible solutions : 2\n",
      "Number of accepted solutions : 1\n",
      "Optimal number of iterations : 1\n",
      "Number of violations in set of most common strings is 0\n",
      "Number of violations in set of other strings is 0\n",
      "Accepted solutions (not corrected for violations):\n",
      "['0']\n",
      "Number of zeros  : 0\n",
      "Number of ones   : 1\n",
      "Number of possible solutions : 2\n",
      "Number of accepted solutions : 1\n",
      "Optimal number of iterations : 1\n",
      "Number of violations in set of most common strings is 0\n",
      "Number of violations in set of other strings is 0\n",
      "Accepted solutions (not corrected for violations):\n",
      "['1']\n"
     ]
    }
   ],
   "source": [
    "test_all_grover_circuits(nr_bits=1, nr_measurements=20000)"
   ]
  },
  {
   "cell_type": "code",
   "execution_count": 15,
   "metadata": {},
   "outputs": [
    {
     "name": "stdout",
     "output_type": "stream",
     "text": [
      "Number of zeros  : 2\n",
      "Number of ones   : 0\n",
      "Number of possible solutions : 4\n",
      "Number of accepted solutions : 1\n",
      "Optimal number of iterations : 1\n",
      "Number of violations in set of most common strings is 0\n",
      "Number of violations in set of other strings is 0\n",
      "Accepted solutions (not corrected for violations):\n",
      "['00']\n",
      "Number of zeros  : 1\n",
      "Number of ones   : 1\n",
      "Number of possible solutions : 4\n",
      "Number of accepted solutions : 2\n",
      "Optimal number of iterations : 1\n",
      "\tresult = |1100> and number of ones is 2\n",
      "Number of violations in set of most common strings is 1\n",
      "\tresult = |0100> and number of ones is 1\n",
      "Number of violations in set of other strings is 1\n",
      "Accepted solutions (not corrected for violations):\n",
      "['10', '11']\n",
      "Number of zeros  : 0\n",
      "Number of ones   : 2\n",
      "Number of possible solutions : 4\n",
      "Number of accepted solutions : 1\n",
      "Optimal number of iterations : 1\n",
      "Number of violations in set of most common strings is 0\n",
      "Number of violations in set of other strings is 0\n",
      "Accepted solutions (not corrected for violations):\n",
      "['11']\n"
     ]
    }
   ],
   "source": [
    "test_all_grover_circuits(nr_bits=2, nr_measurements=20000)"
   ]
  },
  {
   "cell_type": "code",
   "execution_count": 16,
   "metadata": {},
   "outputs": [
    {
     "name": "stdout",
     "output_type": "stream",
     "text": [
      "Number of zeros  : 3\n",
      "Number of ones   : 0\n",
      "Number of possible solutions : 8\n",
      "Number of accepted solutions : 1\n",
      "Optimal number of iterations : 2\n",
      "Number of violations in set of most common strings is 0\n",
      "Number of violations in set of other strings is 0\n",
      "Accepted solutions (not corrected for violations):\n",
      "['000']\n",
      "Number of zeros  : 2\n",
      "Number of ones   : 1\n",
      "Number of possible solutions : 8\n",
      "Number of accepted solutions : 3\n",
      "Optimal number of iterations : 1\n",
      "Number of violations in set of most common strings is 0\n",
      "Number of violations in set of other strings is 0\n",
      "Accepted solutions (not corrected for violations):\n",
      "['001', '010', '100']\n",
      "Number of zeros  : 1\n",
      "Number of ones   : 2\n",
      "Number of possible solutions : 8\n",
      "Number of accepted solutions : 3\n",
      "Optimal number of iterations : 1\n",
      "Number of violations in set of most common strings is 0\n",
      "Number of violations in set of other strings is 0\n",
      "Accepted solutions (not corrected for violations):\n",
      "['011', '101', '110']\n",
      "Number of zeros  : 0\n",
      "Number of ones   : 3\n",
      "Number of possible solutions : 8\n",
      "Number of accepted solutions : 1\n",
      "Optimal number of iterations : 2\n",
      "Number of violations in set of most common strings is 0\n",
      "Number of violations in set of other strings is 0\n",
      "Accepted solutions (not corrected for violations):\n",
      "['111']\n"
     ]
    }
   ],
   "source": [
    "test_all_grover_circuits(nr_bits=3, nr_measurements=20000)"
   ]
  },
  {
   "cell_type": "code",
   "execution_count": 17,
   "metadata": {},
   "outputs": [
    {
     "name": "stdout",
     "output_type": "stream",
     "text": [
      "Number of zeros  : 4\n",
      "Number of ones   : 0\n",
      "Number of possible solutions : 16\n",
      "Number of accepted solutions : 1\n",
      "Optimal number of iterations : 3\n",
      "Number of violations in set of most common strings is 0\n",
      "Number of violations in set of other strings is 0\n",
      "Accepted solutions (not corrected for violations):\n",
      "['0000']\n",
      "Number of zeros  : 3\n",
      "Number of ones   : 1\n",
      "Number of possible solutions : 16\n",
      "Number of accepted solutions : 4\n",
      "Optimal number of iterations : 1\n",
      "Number of violations in set of most common strings is 0\n",
      "Number of violations in set of other strings is 0\n",
      "Accepted solutions (not corrected for violations):\n",
      "['0001', '0010', '0100', '1000']\n",
      "Number of zeros  : 2\n",
      "Number of ones   : 2\n",
      "Number of possible solutions : 16\n",
      "Number of accepted solutions : 6\n",
      "Optimal number of iterations : 1\n",
      "Number of violations in set of most common strings is 0\n",
      "Number of violations in set of other strings is 0\n",
      "Accepted solutions (not corrected for violations):\n",
      "['0011', '0101', '0110', '1001', '1010', '1100']\n",
      "Number of zeros  : 1\n",
      "Number of ones   : 3\n",
      "Number of possible solutions : 16\n",
      "Number of accepted solutions : 4\n",
      "Optimal number of iterations : 1\n",
      "Number of violations in set of most common strings is 0\n",
      "Number of violations in set of other strings is 0\n",
      "Accepted solutions (not corrected for violations):\n",
      "['0111', '1011', '1101', '1110']\n",
      "Number of zeros  : 0\n",
      "Number of ones   : 4\n",
      "Number of possible solutions : 16\n",
      "Number of accepted solutions : 1\n",
      "Optimal number of iterations : 3\n",
      "Number of violations in set of most common strings is 0\n",
      "Number of violations in set of other strings is 0\n",
      "Accepted solutions (not corrected for violations):\n",
      "['1111']\n"
     ]
    }
   ],
   "source": [
    "test_all_grover_circuits(nr_bits=4, nr_measurements=20000)"
   ]
  },
  {
   "cell_type": "code",
   "execution_count": 18,
   "metadata": {},
   "outputs": [
    {
     "name": "stdout",
     "output_type": "stream",
     "text": [
      "Number of zeros  : 5\n",
      "Number of ones   : 0\n",
      "Number of possible solutions : 32\n",
      "Number of accepted solutions : 1\n",
      "Optimal number of iterations : 4\n",
      "Number of violations in set of most common strings is 0\n",
      "Number of violations in set of other strings is 0\n",
      "Accepted solutions (not corrected for violations):\n",
      "['00000']\n",
      "Number of zeros  : 4\n",
      "Number of ones   : 1\n",
      "Number of possible solutions : 32\n",
      "Number of accepted solutions : 5\n",
      "Optimal number of iterations : 1\n",
      "Number of violations in set of most common strings is 0\n",
      "Number of violations in set of other strings is 0\n",
      "Accepted solutions (not corrected for violations):\n",
      "['00001', '00010', '00100', '01000', '10000']\n",
      "Number of zeros  : 3\n",
      "Number of ones   : 2\n",
      "Number of possible solutions : 32\n",
      "Number of accepted solutions : 10\n",
      "Optimal number of iterations : 1\n",
      "Number of violations in set of most common strings is 0\n",
      "Number of violations in set of other strings is 0\n",
      "Accepted solutions (not corrected for violations):\n",
      "['00011', '00101', '00110', '01001', '01010', '01100', '10001', '10010', '10100', '11000']\n",
      "Number of zeros  : 2\n",
      "Number of ones   : 3\n",
      "Number of possible solutions : 32\n",
      "Number of accepted solutions : 10\n",
      "Optimal number of iterations : 1\n",
      "Number of violations in set of most common strings is 0\n",
      "Number of violations in set of other strings is 0\n",
      "Accepted solutions (not corrected for violations):\n",
      "['00111', '01011', '01101', '01110', '10011', '10101', '10110', '11001', '11010', '11100']\n",
      "Number of zeros  : 1\n",
      "Number of ones   : 4\n",
      "Number of possible solutions : 32\n",
      "Number of accepted solutions : 5\n",
      "Optimal number of iterations : 1\n",
      "Number of violations in set of most common strings is 0\n",
      "Number of violations in set of other strings is 0\n",
      "Accepted solutions (not corrected for violations):\n",
      "['01111', '10111', '11011', '11101', '11110']\n",
      "Number of zeros  : 0\n",
      "Number of ones   : 5\n",
      "Number of possible solutions : 32\n",
      "Number of accepted solutions : 1\n",
      "Optimal number of iterations : 4\n",
      "Number of violations in set of most common strings is 0\n",
      "Number of violations in set of other strings is 0\n",
      "Accepted solutions (not corrected for violations):\n",
      "['11111']\n"
     ]
    }
   ],
   "source": [
    "test_all_grover_circuits(nr_bits=5, nr_measurements=20000)"
   ]
  },
  {
   "cell_type": "code",
   "execution_count": null,
   "metadata": {},
   "outputs": [
    {
     "name": "stdout",
     "output_type": "stream",
     "text": [
      "Number of zeros  : 6\n",
      "Number of ones   : 0\n",
      "Number of possible solutions : 64\n",
      "Number of accepted solutions : 1\n",
      "Optimal number of iterations : 1\n",
      "Number of violations in set of most common strings is 0\n",
      "Number of violations in set of other strings is 0\n",
      "Accepted solutions (not corrected for violations):\n",
      "['000000']\n",
      "Number of zeros  : 5\n",
      "Number of ones   : 1\n",
      "Number of possible solutions : 64\n",
      "Number of accepted solutions : 6\n",
      "Optimal number of iterations : 2\n",
      "Number of violations in set of most common strings is 0\n",
      "Number of violations in set of other strings is 0\n",
      "Accepted solutions (not corrected for violations):\n",
      "['000001', '000010', '000100', '001000', '010000', '100000']\n",
      "Number of zeros  : 4\n",
      "Number of ones   : 2\n",
      "Number of possible solutions : 64\n",
      "Number of accepted solutions : 15\n",
      "Optimal number of iterations : 1\n",
      "Number of violations in set of most common strings is 0\n",
      "Number of violations in set of other strings is 0\n",
      "Accepted solutions (not corrected for violations):\n",
      "['000011', '000101', '000110', '001001', '001010', '001100', '010001', '010010', '010100', '011000', '100001', '100010', '100100', '101000', '110000']\n",
      "Number of zeros  : 3\n",
      "Number of ones   : 3\n",
      "Number of possible solutions : 64\n",
      "Number of accepted solutions : 20\n",
      "Optimal number of iterations : 1\n",
      "Number of violations in set of most common strings is 0\n",
      "Number of violations in set of other strings is 0\n",
      "Accepted solutions (not corrected for violations):\n",
      "['000111', '001011', '001101', '001110', '010011', '010101', '010110', '011001', '011010', '011100', '100011', '100101', '100110', '101001', '101010', '101100', '110001', '110010', '110100', '111000']\n",
      "Number of zeros  : 2\n",
      "Number of ones   : 4\n",
      "Number of possible solutions : 64\n",
      "Number of accepted solutions : 15\n",
      "Optimal number of iterations : 1\n",
      "Number of violations in set of most common strings is 0\n",
      "Number of violations in set of other strings is 0\n",
      "Accepted solutions (not corrected for violations):\n",
      "['001111', '010111', '011011', '011101', '011110', '100111', '101011', '101101', '101110', '110011', '110101', '110110', '111001', '111010', '111100']\n",
      "Number of zeros  : 1\n",
      "Number of ones   : 5\n",
      "Number of possible solutions : 64\n",
      "Number of accepted solutions : 6\n",
      "Optimal number of iterations : 2\n",
      "Number of violations in set of most common strings is 0\n",
      "Number of violations in set of other strings is 0\n",
      "Accepted solutions (not corrected for violations):\n",
      "['011111', '101111', '110111', '111011', '111101', '111110']\n",
      "Number of zeros  : 0\n",
      "Number of ones   : 6\n",
      "Number of possible solutions : 64\n",
      "Number of accepted solutions : 1\n",
      "Optimal number of iterations : 1\n",
      "Number of violations in set of most common strings is 0\n",
      "Number of violations in set of other strings is 0\n",
      "Accepted solutions (not corrected for violations):\n",
      "['111111']\n"
     ]
    }
   ],
   "source": [
    "#test_all_grover_circuits(nr_bits=6, nr_measurements=20000)"
   ]
  },
  {
   "cell_type": "code",
   "execution_count": null,
   "metadata": {},
   "outputs": [
    {
     "name": "stdout",
     "output_type": "stream",
     "text": [
      "Number of zeros  : 7\n",
      "Number of ones   : 0\n",
      "Number of possible solutions : 128\n",
      "Number of accepted solutions : 1\n",
      "Optimal number of iterations : 1\n",
      "Number of violations in set of most common strings is 0\n",
      "Number of violations in set of other strings is 0\n",
      "Accepted solutions (not corrected for violations):\n",
      "['0000000']\n",
      "Number of zeros  : 6\n",
      "Number of ones   : 1\n",
      "Number of possible solutions : 128\n",
      "Number of accepted solutions : 7\n",
      "Optimal number of iterations : 3\n",
      "Number of violations in set of most common strings is 0\n",
      "Number of violations in set of other strings is 0\n",
      "Accepted solutions (not corrected for violations):\n",
      "['0000001', '0000010', '0000100', '0001000', '0010000', '0100000', '1000000']\n",
      "Number of zeros  : 5\n",
      "Number of ones   : 2\n",
      "Number of possible solutions : 128\n",
      "Number of accepted solutions : 21\n",
      "Optimal number of iterations : 1\n",
      "Number of violations in set of most common strings is 0\n",
      "Number of violations in set of other strings is 0\n",
      "Accepted solutions (not corrected for violations):\n",
      "['0000011', '0000101', '0000110', '0001001', '0001010', '0001100', '0010001', '0010010', '0010100', '0011000', '0100001', '0100010', '0100100', '0101000', '0110000', '1000001', '1000010', '1000100', '1001000', '1010000', '1100000']\n",
      "Number of zeros  : 4\n",
      "Number of ones   : 3\n",
      "Number of possible solutions : 128\n",
      "Number of accepted solutions : 35\n",
      "Optimal number of iterations : 1\n",
      "Number of violations in set of most common strings is 0\n",
      "Number of violations in set of other strings is 0\n",
      "Accepted solutions (not corrected for violations):\n",
      "['0000111', '0001011', '0001101', '0001110', '0010011', '0010101', '0010110', '0011001', '0011010', '0011100', '0100011', '0100101', '0100110', '0101001', '0101010', '0101100', '0110001', '0110010', '0110100', '0111000', '1000011', '1000101', '1000110', '1001001', '1001010', '1001100', '1010001', '1010010', '1010100', '1011000', '1100001', '1100010', '1100100', '1101000', '1110000']\n",
      "Number of zeros  : 3\n",
      "Number of ones   : 4\n",
      "Number of possible solutions : 128\n",
      "Number of accepted solutions : 35\n",
      "Optimal number of iterations : 1\n",
      "Number of violations in set of most common strings is 0\n",
      "Number of violations in set of other strings is 0\n",
      "Accepted solutions (not corrected for violations):\n",
      "['0001111', '0010111', '0011011', '0011101', '0011110', '0100111', '0101011', '0101101', '0101110', '0110011', '0110101', '0110110', '0111001', '0111010', '0111100', '1000111', '1001011', '1001101', '1001110', '1010011', '1010101', '1010110', '1011001', '1011010', '1011100', '1100011', '1100101', '1100110', '1101001', '1101010', '1101100', '1110001', '1110010', '1110100', '1111000']\n",
      "Number of zeros  : 2\n",
      "Number of ones   : 5\n",
      "Number of possible solutions : 128\n",
      "Number of accepted solutions : 21\n",
      "Optimal number of iterations : 1\n",
      "Number of violations in set of most common strings is 0\n",
      "Number of violations in set of other strings is 0\n",
      "Accepted solutions (not corrected for violations):\n",
      "['0011111', '0101111', '0110111', '0111011', '0111101', '0111110', '1001111', '1010111', '1011011', '1011101', '1011110', '1100111', '1101011', '1101101', '1101110', '1110011', '1110101', '1110110', '1111001', '1111010', '1111100']\n",
      "Number of zeros  : 1\n",
      "Number of ones   : 6\n",
      "Number of possible solutions : 128\n",
      "Number of accepted solutions : 7\n",
      "Optimal number of iterations : 3\n",
      "Number of violations in set of most common strings is 0\n",
      "Number of violations in set of other strings is 0\n",
      "Accepted solutions (not corrected for violations):\n",
      "['0111111', '1011111', '1101111', '1110111', '1111011', '1111101', '1111110']\n",
      "Number of zeros  : 0\n",
      "Number of ones   : 7\n",
      "Number of possible solutions : 128\n",
      "Number of accepted solutions : 1\n",
      "Optimal number of iterations : 1\n",
      "Number of violations in set of most common strings is 0\n",
      "Number of violations in set of other strings is 0\n",
      "Accepted solutions (not corrected for violations):\n",
      "['1111111']\n"
     ]
    }
   ],
   "source": [
    "#test_all_grover_circuits(nr_bits=7, nr_measurements=20000)"
   ]
  },
  {
   "cell_type": "markdown",
   "metadata": {},
   "source": [
    "In function *test_grover_circuit()* the optimal number of iterations is determined based on the number of possible solutions $N$ and the number of accepted solutions $M$. \n",
    "For binary string length $6$, $N=2^6=64$ and for string length $7$, $N=2^7=128$.\n",
    "In case the number of zeros or the number of ones is equal to $0$, there is only one accepted solution, hence $M=1$.\n",
    "\n",
    "In that case, the optimal number of iterations for string length $6$ is \n",
    "\n",
    "$k_{\\text{opt}} = \\left\\lfloor \\frac{\\pi}{4} \\sqrt{\\frac{N}{M}} \\right\\rfloor = \\left\\lfloor \\frac{\\pi}{4} \\sqrt{\\frac{64}{1}} \\right\\rfloor = 6$."
   ]
  },
  {
   "cell_type": "code",
   "execution_count": 21,
   "metadata": {},
   "outputs": [
    {
     "name": "stdout",
     "output_type": "stream",
     "text": [
      "Number of zeros  : 0\n",
      "Number of ones   : 6\n",
      "Number of possible solutions : 64\n",
      "Number of accepted solutions : 1\n",
      "Optimal number of iterations : 6\n"
     ]
    }
   ],
   "source": [
    "nr_zeros = 0\n",
    "nr_ones = 6\n",
    "nr_possible_solutions = 2**(nr_zeros + nr_ones)\n",
    "nr_accepted_solutions = math.comb(nr_zeros + nr_ones, nr_ones)\n",
    "nr_iterations = max(1, math.floor((math.pi / 4) * math.sqrt((nr_possible_solutions/nr_accepted_solutions))))\n",
    "print(f\"Number of zeros  : {nr_zeros}\")\n",
    "print(f\"Number of ones   : {nr_ones}\")\n",
    "print(f\"Number of possible solutions : {nr_possible_solutions}\")\n",
    "print(f\"Number of accepted solutions : {nr_accepted_solutions}\")\n",
    "print(f\"Optimal number of iterations : {nr_iterations}\")"
   ]
  },
  {
   "cell_type": "markdown",
   "metadata": {},
   "source": [
    "The optimal number of iterations for string length $7$ is\n",
    "\n",
    "$k_{\\text{opt}} = \\left\\lfloor \\frac{\\pi}{4} \\sqrt{\\frac{N}{M}} \\right\\rfloor = \\left\\lfloor \\frac{\\pi}{4} \\sqrt{\\frac{128}{1}} \\right\\rfloor = 8$."
   ]
  },
  {
   "cell_type": "code",
   "execution_count": 22,
   "metadata": {},
   "outputs": [
    {
     "name": "stdout",
     "output_type": "stream",
     "text": [
      "Number of zeros  : 0\n",
      "Number of ones   : 7\n",
      "Number of possible solutions : 128\n",
      "Number of accepted solutions : 1\n",
      "Optimal number of iterations : 8\n"
     ]
    }
   ],
   "source": [
    "nr_zeros = 0\n",
    "nr_ones = 7\n",
    "nr_possible_solutions = 2**(nr_zeros + nr_ones)\n",
    "nr_accepted_solutions = math.comb(nr_zeros + nr_ones, nr_ones)\n",
    "nr_iterations = max(1, math.floor((math.pi / 4) * math.sqrt((nr_possible_solutions/nr_accepted_solutions))))\n",
    "print(f\"Number of zeros  : {nr_zeros}\")\n",
    "print(f\"Number of ones   : {nr_ones}\")\n",
    "print(f\"Number of possible solutions : {nr_possible_solutions}\")\n",
    "print(f\"Number of accepted solutions : {nr_accepted_solutions}\")\n",
    "print(f\"Optimal number of iterations : {nr_iterations}\")"
   ]
  },
  {
   "cell_type": "markdown",
   "metadata": {},
   "source": [
    "In function *test_grover_circuit()* the number of interations is set to $1$ in these cases. \n",
    "This can be overruled by passing parameter *nr_iterations* with the number of iterations of your own choice.\n",
    "\n",
    "Below, a Grover circuit is tested with $0$ zeros and $6$ ones. The number of iterations is set to $6$. Note that the result is actually wrong. \n",
    "You can try any number of iterations, but you will find that only $1$ iteration is sufficient and leads to the correct result. \n",
    "This is also the case for binary strings of length $7$ with either $0$ zeros or $0$ ones."
   ]
  },
  {
   "cell_type": "code",
   "execution_count": 23,
   "metadata": {},
   "outputs": [
    {
     "name": "stdout",
     "output_type": "stream",
     "text": [
      "Number of zeros  : 0\n",
      "Number of ones   : 6\n",
      "Number of possible solutions : 64\n",
      "Number of accepted solutions : 1\n",
      "Optimal number of iterations : 6\n",
      "\tresult = |110001000> and number of ones is 3\n",
      "Number of violations in set of most common strings is 1\n",
      "\tresult = |111111000> and number of ones is 6\n",
      "Number of violations in set of other strings is 1\n",
      "Accepted solutions (not corrected for violations):\n",
      "['110001']\n"
     ]
    }
   ],
   "source": [
    "test_grover_circuit(nr_zeros=0, nr_ones=6, nr_measurements=20000, nr_iterations=6)"
   ]
  }
 ],
 "metadata": {
  "kernelspec": {
   "display_name": "base",
   "language": "python",
   "name": "python3"
  },
  "language_info": {
   "codemirror_mode": {
    "name": "ipython",
    "version": 3
   },
   "file_extension": ".py",
   "mimetype": "text/x-python",
   "name": "python",
   "nbconvert_exporter": "python",
   "pygments_lexer": "ipython3",
   "version": "3.9.7"
  }
 },
 "nbformat": 4,
 "nbformat_minor": 2
}
