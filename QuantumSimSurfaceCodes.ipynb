{
 "cells": [
  {
   "cell_type": "markdown",
   "metadata": {},
   "source": [
    "<h1> QuantumSim - Surface Codes </h1>\n",
    "Author: Michel Meulen<br>\n",
    "Date: 05-12-2024<br>\n",
    "<br>\n",
    "This chapter introduces quantum error correction (QEC) and delves into the distance three surface code. The content presented here is based on a research paper, which can be found at: ./assets/research/Michel Meulen. To execute this notebook, two libraries are essential: quantumsim, likely familiar to you, and SurfaceCodeQuantumSim, providing circuits for the nine-qubit surface code.\n",
    "\n",
    "A strong foundation in quantum computing, particularly the concepts explored in the chapter \"QuantumSim - Shor's Nine Qubit Code,\" is recommended. This chapter clarifies the properties of specific quantum gates crucial for understanding the surface code, as well as the two primary error types: phase-flip (Z-errors) and bit-flip (X-errors).\n",
    "\n"
   ]
  },
  {
   "cell_type": "code",
   "execution_count": 1,
   "metadata": {},
   "outputs": [],
   "source": [
    "from quantumsim import Circuit, QuantumUtil"
   ]
  },
  {
   "cell_type": "markdown",
   "metadata": {},
   "source": [
    "Surface Codes - Basics\n",
    "------------------------\n",
    "Quantum error correction leverages multiple physical qubits to construct more resilient logical qubits. Within the surface code architecture, qubits are classified into two categories: data qubits, which store the actual quantum information, and ancillary qubits, which facilitate error detection and correction. By measuring ancillary qubits, we can identify potential errors in data qubits and apply appropriate recovery operations to maintain data integrity. This notebook delves into the fundamentals of the surface code, starting with the fundamental building blocks and concluding in a simulation of the distance-3 surface code, providing a comprehensive understanding of the surface code.\n",
    "\n",
    "Surface Codes - Architecture\n",
    "----------------------------\n",
    "Surface codes function through multiple stages. Initially, data qubits are encoded and entangled with each other. A portion of the algorithm is subsequently applied to all data qubits. It is probable that errors, such as bit-flip or phase-flip errors, will be introduced into the data qubits as a result of the application of these gates.\n",
    "\n",
    "To detect and correct these errors, a syndrome extraction process is employed. During this stage, information about the errors, known as the syndrome, is extracted from the data qubits and stored in ancillary qubits. These ancillary qubits are then measured, and their measurement results are projected onto a classical system.\n",
    "\n",
    "The classical system processes the measured syndrome values and feeds them into a decoder. The decoder analyzes the syndrome and determines the most likely error pattern that occurred. Based on this analysis, the decoder estimates the necessary recovery action, which involves applying corrective operations to the data qubits to reverse the effects of the errors.\n",
    "\n",
    "To enhance the noise resilience of the qubits, this cycle of encoding, error detection, and correction can be repeated multiple times within a single quantum computation. However, this increased resilience comes at the cost of longer computation times which is crucial due qubits decoherence times and the speed of the decoder. Below is a visual representation of the different components and steps used to create a surface code system. The double lines indicate classical information flow, in contrast to quantum information flow which is indicated with single lines.\n",
    "\n",
    "<img src=\"./assets/images/qec_general/architecture_of_surface_code.drawio.png\" alt=\"Architecture of the surface code\" style=\"width:50%;\"/>\n"
   ]
  },
  {
   "cell_type": "markdown",
   "metadata": {},
   "source": [
    "Surface Codes - Encoding\n",
    "--------------------------------\n",
    "For demonstrating how each stabilizer works all data qubits need to entangled with eachother. To accomplish this we create a four qubit Greenberger-Horne-Zeilinger (GHZ) state.\n",
    "\n",
    "<img src=\"./assets/images/surface_code/surface_code_GHZ_circuit.png\" alt=\"Surface code encoding circuit\" style=\"width:60%;\"/>\n"
   ]
  },
  {
   "cell_type": "code",
   "execution_count": 2,
   "metadata": {},
   "outputs": [
    {
     "name": "stdout",
     "output_type": "stream",
     "text": [
      "Measured state:\n",
      "|1111>\n"
     ]
    },
    {
     "data": {
      "text/plain": [
       "'|1111>'"
      ]
     },
     "execution_count": 2,
     "metadata": {},
     "output_type": "execute_result"
    }
   ],
   "source": [
    "circuit = Circuit(4, 0, True)\n",
    "d1, d2, d3, d4 = 0, 1, 2, 3\n",
    "\n",
    "circuit.hadamard(d1)\n",
    "circuit.cnot(d1, d2)\n",
    "circuit.cnot(d2, d3)\n",
    "circuit.cnot(d3, d4)\n",
    "\n",
    "circuit.execute()\n",
    "circuit.measure(True)\n"
   ]
  },
  {
   "cell_type": "markdown",
   "metadata": {},
   "source": [
    "Surface Codes - X Stabilizer\n",
    "----------------------------\n",
    "\n",
    "Detects phase flip errors on adjacent data qubits using either CX or CZ in combination with Hadamard gates.\n",
    "\n",
    "<img src=\"./assets/images/surface_code/surface_code_x_stabilizer.png\" alt=\"X stabilizer\" style=\"width:60%;\"/>"
   ]
  },
  {
   "cell_type": "code",
   "execution_count": 3,
   "metadata": {},
   "outputs": [
    {
     "name": "stdout",
     "output_type": "stream",
     "text": [
      "1\n"
     ]
    }
   ],
   "source": [
    "circuit = Circuit(5, 1, True)\n",
    "d1, d2, d3, d4, a1 = 0, 1, 2, 3, 4\n",
    "\n",
    "# Encoding\n",
    "circuit.hadamard(d1)\n",
    "circuit.cnot(d1, d2)\n",
    "circuit.cnot(d1, d3)\n",
    "circuit.cnot(d1, d4)\n",
    "\n",
    "# Introduce Error\n",
    "circuit.bitflip_error(d1)\n",
    "\n",
    "# Syndrome extraction\n",
    "circuit.cnot(d1, a1)\n",
    "circuit.cnot(d2, a1)\n",
    "circuit.cnot(d3, a1)\n",
    "circuit.cnot(d4, a1)\n",
    "\n",
    "# Measurement of ancillary qubit\n",
    "circuit.measurement(a1, 0)\n",
    "\n",
    "circuit.execute()\n",
    "\n",
    "# If an bit-flip error occured, the register[0] is 1, if there is no error the register[0] is 0\n",
    "circuit.classicalBitRegister.print()"
   ]
  },
  {
   "cell_type": "markdown",
   "metadata": {},
   "source": [
    "Surface Codes - Z Stabilizer\n",
    "----------------------------\n",
    "\n",
    "Detects bit flip errors on adjacent data qubits using either CX or CZ in combination with Hadamard gates.\n",
    "\n",
    "<img src=\"./assets/images/surface_code/surface_code_z_stabilizer.png\" alt=\"Z stabilizer\" style=\"width:60%;\"/>"
   ]
  },
  {
   "cell_type": "code",
   "execution_count": 4,
   "metadata": {},
   "outputs": [
    {
     "name": "stdout",
     "output_type": "stream",
     "text": [
      "H....\tHadamard on qubit 0\n",
      "*X...\tCNOT with control qubit 0 and target qubit 1\n",
      "*.X..\tCNOT with control qubit 0 and target qubit 2\n",
      "*..X.\tCNOT with control qubit 0 and target qubit 3\n",
      "Z....\tPhase-flip error (Pauli Z) on qubit 0\n",
      "....H\tHadamard on qubit 4\n",
      "X...*\tCNOT with control qubit 4 and target qubit 0\n",
      ".X..*\tCNOT with control qubit 4 and target qubit 1\n",
      "..X.*\tCNOT with control qubit 4 and target qubit 2\n",
      "...X*\tCNOT with control qubit 4 and target qubit 3\n",
      "....H\tHadamard on qubit 4\n"
     ]
    }
   ],
   "source": [
    "circuit = Circuit(5, 1, True)\n",
    "d1, d2, d3, d4, a1 = 0, 1, 2, 3, 4\n",
    "\n",
    "# Encoding\n",
    "circuit.hadamard(d1)\n",
    "circuit.cnot(d1, d2)\n",
    "circuit.cnot(d1, d3)\n",
    "circuit.cnot(d1, d4)\n",
    "\n",
    "# Introduce Error\n",
    "circuit.phaseflip_error(d1)\n",
    "\n",
    "# Syndrome extraction\n",
    "circuit.hadamard(a1)\n",
    "circuit.cnot(a1, d1)\n",
    "circuit.cnot(a1, d2)\n",
    "circuit.cnot(a1, d3)\n",
    "circuit.cnot(a1, d4)\n",
    "circuit.hadamard(a1)\n",
    "\n",
    "circuit.print_gates_and_descriptions()\n",
    "\n",
    "# Measurement of ancillary qubit\n",
    "circuit.measurement(a1, 0)\n",
    "circuit.execute()\n",
    "\n",
    "# If an phase-flip error occured, the register[0] is 1, if there is no error the register[0] is 0\n",
    "# circuit.classicalBitRegister.print()"
   ]
  },
  {
   "cell_type": "markdown",
   "metadata": {},
   "source": [
    "Surface Codes - The Distance-Three Surface Code\n",
    "-----------------------------------------------\n",
    "\n",
    "Smallest surface code architecture capable of detecting and correcting one phase-flip and one bit-flip. It consists of nine data qubits, the lattice size being 3x3, and eight ancillary/ measurement qubits. Circles represent data qubits. Squares represent de ancillary qubits. Each data-ancillary qubit interaction is marked with either colour red, check for bit flips, or blue, check for phase flip. \n",
    "\n",
    "<img src=\"./assets/images/surface_code/rotated_surface_17_code.png\" alt=\"Rotated surface-17 code\" style=\"width:30%;\"/>\n",
    "\n",
    "The code below simulates the rotated surface-17 code with the following steps:\n",
    "1. Encode all data qubits\n",
    "2. Introduce errors (bit-flips or phase-flips) (optional)\n",
    "3. Extract x stabilizer syndrome\n",
    "4. Extract z stabilizer syndrome\n",
    "5. Use x stabilizer syndrome to apply recovery method\n",
    "6. Use z stabilizer syndrome to apply recovery method\n",
    "7. Decode all data qubits\n",
    "8. Measure all data qubits and store on classic bit register\n",
    "9. Plot registers"
   ]
  },
  {
   "cell_type": "code",
   "execution_count": 5,
   "metadata": {},
   "outputs": [
    {
     "name": "stdout",
     "output_type": "stream",
     "text": [
      "Phase flip recovery (Pauli Z) applied on qubit: 0\n",
      "Bit flip recovery (Pauli X) applied on qubit: 0\n"
     ]
    },
    {
     "data": {
      "image/png": "[encoded data removed]",
      "text/plain": [
       "<Figure size 640x480 with 1 Axes>"
      ]
     },
     "metadata": {},
     "output_type": "display_data"
    }
   ],
   "source": [
    "from SurfaceCodeQuantumSim import SurfaceCode\n",
    "from quantumsim import QuantumUtil\n",
    "\n",
    "surfaceCode = SurfaceCode()\n",
    "\n",
    "surfaceCode.add_encoder_circuit()\n",
    "\n",
    "surfaceCode.add_bit_flip (d1)\n",
    "surfaceCode.add_phase_flip(d1)\n",
    "\n",
    "surfaceCode.add_x_stabilizer_syndrome_extraction()\n",
    "surfaceCode.add_z_stabilizer_syndrome_extraction()\n",
    "surfaceCode.add_recovery_from_syndrome_x_stabilizer()\n",
    "surfaceCode.add_recovery_from_syndrome_z_stabilizer()\n",
    "\n",
    "surfaceCode.add_decoder_circuit()\n",
    "surfaceCode.add_measure_all_data_qubits()\n",
    "\n",
    "result = QuantumUtil.measure_circuit_bit_register(surfaceCode.circuit, 1)                    \n",
    "QuantumUtil.histogram_of_classical_states(result)"
   ]
  }
 ],
 "metadata": {
  "kernelspec": {
   "display_name": "base",
   "language": "python",
   "name": "python3"
  },
  "language_info": {
   "codemirror_mode": {
    "name": "ipython",
    "version": 3
   },
   "file_extension": ".py",
   "mimetype": "text/x-python",
   "name": "python",
   "nbconvert_exporter": "python",
   "pygments_lexer": "ipython3",
   "version": "3.9.7"
  }
 },
 "nbformat": 4,
 "nbformat_minor": 2
}
